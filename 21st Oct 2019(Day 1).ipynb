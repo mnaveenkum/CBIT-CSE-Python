{
 "cells": [
  {
   "cell_type": "markdown",
   "metadata": {},
   "source": [
    "# Literate Programming\n",
    "* It is a combination of both coding and documentation\n",
    "- Order list\n",
    "    1. Apssdc\n",
    "    2. Cbit\n",
    "    3. Svce\n",
    "- Unorder list\n",
    "    - ap\n",
    "        * kadapa\n",
    "    - ts\n",
    "    - tn\n",
    "    \n",
    "muneiah.t@apssdc.in\n",
    "\n",
    "www.cbit.edu.in\n",
    "\n",
    "<img src=\"cbitpdtr.jpg\">\n",
    "\n",
    "    \n",
    "    "
   ]
  },
  {
   "cell_type": "code",
   "execution_count": 1,
   "metadata": {},
   "outputs": [
    {
     "name": "stdout",
     "output_type": "stream",
     "text": [
      "Hello World\n"
     ]
    }
   ],
   "source": [
    "print(\"Hello World\")\n"
   ]
  },
  {
   "cell_type": "markdown",
   "metadata": {},
   "source": [
    "# Variables in Python\n"
   ]
  },
  {
   "cell_type": "code",
   "execution_count": null,
   "metadata": {},
   "outputs": [],
   "source": [
    "#-->Single Line Commenting\n",
    "#-->Multiline Commenting \"\"\" \"\"\"\n",
    "''' this is also\n",
    "      multiline Commenting '''"
   ]
  },
  {
   "cell_type": "code",
   "execution_count": 5,
   "metadata": {},
   "outputs": [
    {
     "name": "stdout",
     "output_type": "stream",
     "text": [
      "the value of x is  4\n"
     ]
    }
   ],
   "source": [
    "#int a=10 #This in the C-lang/java/cPP\n",
    "x=4# In Python Integer var declaration\n",
    "type(x)\n",
    "print(\"the value of x is \",x)"
   ]
  },
  {
   "cell_type": "code",
   "execution_count": 10,
   "metadata": {},
   "outputs": [
    {
     "name": "stdout",
     "output_type": "stream",
     "text": [
      "11\n"
     ]
    }
   ],
   "source": [
    "b=3.4\n",
    "type(b)\n",
    "#floor value is =3\n",
    "#Ceil value is =4\n",
    "s=\"cbit\"\n",
    "s\n",
    "type(s)\n",
    "#multi varible declaration\n",
    "a,b,c=3,5,8\n",
    "b\n",
    "print(a+c)"
   ]
  },
  {
   "cell_type": "code",
   "execution_count": null,
   "metadata": {},
   "outputs": [],
   "source": [
    "#Data Types in py\n",
    "    \"\"\"int\n",
    "    float\n",
    "    string\n",
    "    set\n",
    "    list\n",
    "    tuple\n",
    "    dict\"\"\""
   ]
  },
  {
   "cell_type": "code",
   "execution_count": 15,
   "metadata": {},
   "outputs": [
    {
     "name": "stdout",
     "output_type": "stream",
     "text": [
      "Enter the N value 4\n",
      "8\n"
     ]
    }
   ],
   "source": [
    "n=int(input(\"Enter the N value \"))\n",
    "#type(n)\n",
    "result=n+4\n",
    "print(result)"
   ]
  },
  {
   "cell_type": "code",
   "execution_count": null,
   "metadata": {},
   "outputs": [],
   "source": []
  },
  {
   "cell_type": "code",
   "execution_count": 16,
   "metadata": {},
   "outputs": [
    {
     "name": "stdout",
     "output_type": "stream",
     "text": [
      "Enter the First value: 10\n",
      "Enter the Second value: 3\n",
      "addition of  10 and  3 is  13\n"
     ]
    }
   ],
   "source": [
    "#Task 1: \n",
    "#Perform the arthametic opatations \n",
    "a=int(input(\"Enter the First value: \"))\n",
    "b=int(input(\"Enter the Second value: \"))\n",
    "\n",
    "print(\"addition of \",a,\"and \",b,\"is \",a+b)a"
   ]
  },
  {
   "cell_type": "code",
   "execution_count": 20,
   "metadata": {},
   "outputs": [
    {
     "name": "stdout",
     "output_type": "stream",
     "text": [
      "Enter First Value10\n",
      "Enter Second Value20\n",
      "<class 'int'> <class 'int'>\n",
      "Addition of  10 and  20 is  30\n"
     ]
    }
   ],
   "source": [
    "a=input(\"Enter First Value\")\n",
    "a=int(a)\n",
    "b=input(\"Enter Second Value\")\n",
    "b=int(b)\n",
    "print(type(a),type(b))\n",
    "print(\"Addition of \",a,\"and \",b,\"is \",a+b)"
   ]
  },
  {
   "cell_type": "code",
   "execution_count": 21,
   "metadata": {},
   "outputs": [
    {
     "name": "stdout",
     "output_type": "stream",
     "text": [
      "Plese enter your name : vijay\n",
      "Hello ..!\n",
      "  vijay Welcome to python world\n"
     ]
    }
   ],
   "source": [
    "person_name=str(input(\"Plese enter your name : \"))\n",
    "print(\"Hello ..!\\n \",person_name,\"Welcome to python world\")"
   ]
  },
  {
   "cell_type": "code",
   "execution_count": 24,
   "metadata": {},
   "outputs": [
    {
     "ename": "SyntaxError",
     "evalue": "invalid syntax (<ipython-input-24-b84bd56e1310>, line 5)",
     "output_type": "error",
     "traceback": [
      "\u001b[1;36m  File \u001b[1;32m\"<ipython-input-24-b84bd56e1310>\"\u001b[1;36m, line \u001b[1;32m5\u001b[0m\n\u001b[1;33m    Result-->f(10)=?\u001b[0m\n\u001b[1;37m            ^\u001b[0m\n\u001b[1;31mSyntaxError\u001b[0m\u001b[1;31m:\u001b[0m invalid syntax\n"
     ]
    }
   ],
   "source": [
    "#Task-2\n",
    "#f(x)=x+2x+x(7+x)+20\n",
    "# input=10\n",
    "#output:?\n",
    "Result-->f(10)=?"
   ]
  },
  {
   "cell_type": "code",
   "execution_count": 29,
   "metadata": {},
   "outputs": [
    {
     "name": "stdout",
     "output_type": "stream",
     "text": [
      "Enter Your X value:30\n",
      "f( 30 )= 1220\n"
     ]
    }
   ],
   "source": [
    "#task-2\n",
    "#x=10\n",
    "#f(x)=x+2x+x(7+x)+20\n",
    "# f(10)=10+2(10)+(10)(7+(10))+20\n",
    "x=int(input(\"Enter Your X value:\"))\n",
    "expre=x+2*x+x*(7+x)+20\n",
    "print(\"f(\",x,\")=\",expre)"
   ]
  },
  {
   "cell_type": "code",
   "execution_count": 31,
   "metadata": {},
   "outputs": [
    {
     "name": "stdout",
     "output_type": "stream",
     "text": [
      "3\n",
      "5\n",
      "f( 3 5 )= 144\n"
     ]
    }
   ],
   "source": [
    "# # Task -3\n",
    "# x=2\n",
    "# y=3\n",
    "# f(x,y)=xy+x(2y)+3x+4xy+30\n",
    "# input:\n",
    "#     2 3\n",
    "# output:\n",
    "#       f(x,y)=?\n",
    "#       f(2,3)=78\n",
    "#       f(3,5)=144\n",
    "x=int(input())\n",
    "y=int(input())\n",
    "expre=x*y+x*(2*y)+3*x+4*x*y+30\n",
    "print(\"f(\",x,y,\")=\",expre)"
   ]
  },
  {
   "cell_type": "code",
   "execution_count": 32,
   "metadata": {},
   "outputs": [
    {
     "data": {
      "text/plain": [
       "8"
      ]
     },
     "execution_count": 32,
     "metadata": {},
     "output_type": "execute_result"
    }
   ],
   "source": [
    "#Power \n",
    "2**3"
   ]
  },
  {
   "cell_type": "code",
   "execution_count": 33,
   "metadata": {},
   "outputs": [
    {
     "data": {
      "text/plain": [
       "3"
      ]
     },
     "execution_count": 33,
     "metadata": {},
     "output_type": "execute_result"
    }
   ],
   "source": [
    "#3.4\n",
    "#-3\n",
    "a=3.4\n",
    "\n",
    "import math\n",
    "\n",
    "math.floor(a)"
   ]
  },
  {
   "cell_type": "code",
   "execution_count": 39,
   "metadata": {},
   "outputs": [
    {
     "data": {
      "text/plain": [
       "5"
      ]
     },
     "execution_count": 39,
     "metadata": {},
     "output_type": "execute_result"
    }
   ],
   "source": [
    "x=10\n",
    "y=2\n",
    "x//y"
   ]
  },
  {
   "cell_type": "code",
   "execution_count": 44,
   "metadata": {},
   "outputs": [],
   "source": [
    "#Conditional Stms\n",
    "    #1.if\n",
    "    #syntax\n",
    "#     if(condi){\n",
    "        #..Stements      #other launges \n",
    "#     }\n",
    "a=4\n",
    "b=8\n",
    "# if condition:\n",
    "#     ...stmts\n",
    "if a<b:\n",
    "    print(\"Yes\")\n"
   ]
  },
  {
   "cell_type": "code",
   "execution_count": 45,
   "metadata": {},
   "outputs": [
    {
     "name": "stdout",
     "output_type": "stream",
     "text": [
      "No\n"
     ]
    }
   ],
   "source": [
    "#2.if ..else\n",
    "#syntax\n",
    "#     if condition:\n",
    "#         ...stms\n",
    "#     else:\n",
    "#         ...stms\n",
    "if a>b:\n",
    "    print(\"Yes\")\n",
    "else:\n",
    "    print(\"No\")\n",
    "    \n",
    "    "
   ]
  },
  {
   "cell_type": "code",
   "execution_count": 48,
   "metadata": {},
   "outputs": [
    {
     "name": "stdout",
     "output_type": "stream",
     "text": [
      "A is big\n"
     ]
    }
   ],
   "source": [
    "# 3.if..elif..else\n",
    "# 2\n",
    "# 3\n",
    "# 5\n",
    "a=9\n",
    "b=3\n",
    "c=5\n",
    "d=7\n",
    "if(a>b):\n",
    "    if(a>c):\n",
    "        if(a>d):b\n",
    "            print(\"A is big\")\n",
    "elif(b>c):\n",
    "    if(b>d):\n",
    "        print(\"b is big\")\n",
    "elif(c>d):\n",
    "        print(\"c is Big\")\n",
    "else:\n",
    "    print(\"D is big\")"
   ]
  },
  {
   "cell_type": "markdown",
   "metadata": {},
   "source": [
    "Task-4\n",
    "input:2019\n",
    "output:not a leap year\n",
    "input:1900\n",
    "output:Yes It is leap year\n",
    "### (year%400 or (year%100!=0) and (year%4==0))\n",
    "\n",
    "\n",
    "Task-5\n",
    "input:\n",
    "    l=180\n",
    "    w=200\n",
    "    h=600\n",
    "output:crop it\n",
    "input:\n",
    "    l=180\n",
    "    w=180\n",
    "    h=180\n",
    "output:Accepted\n",
    "input:\n",
    "    l=180\n",
    "    w=120\n",
    "    h=500\n",
    "output:Not Accepted"
   ]
  },
  {
   "cell_type": "code",
   "execution_count": 52,
   "metadata": {},
   "outputs": [
    {
     "name": "stdout",
     "output_type": "stream",
     "text": [
      " 1900\n",
      "No\n"
     ]
    }
   ],
   "source": [
    "year=int(input(\" \"))\n",
    "if (year%400==0 or (year%100!=0) and (year%4==0)):\n",
    "    print(\"Yes\")\n",
    "else:\n",
    "    print(\"No\")\n",
    "    "
   ]
  },
  {
   "cell_type": "code",
   "execution_count": 56,
   "metadata": {},
   "outputs": [
    {
     "name": "stdout",
     "output_type": "stream",
     "text": [
      "180\n",
      "180\n",
      "180\n",
      "Accepted\n"
     ]
    }
   ],
   "source": [
    "# Task-5\n",
    "# input:\n",
    "#     l=180\n",
    "#     w=200\n",
    "#     h=600\n",
    "# output:crop it\n",
    "# input:\n",
    "#     l=180\n",
    "#     w=180\n",
    "#     h=180\n",
    "# output:Accepted\n",
    "# input:\n",
    "#     l=180\n",
    "#     w=120\n",
    "#     h=500\n",
    "# output:Not Accepted\n",
    "l=int(input())\n",
    "w=int(input())\n",
    "h=int(input())\n",
    "if(l<=w and l<=h):\n",
    "    if(w==h):\n",
    "        print(\"Accepted\")\n",
    "    else:\n",
    "        print(\"Crop it\")\n",
    "else:\n",
    "    print(\"not Accepted\")"
   ]
  },
  {
   "cell_type": "code",
   "execution_count": 60,
   "metadata": {},
   "outputs": [
    {
     "name": "stdout",
     "output_type": "stream",
     "text": [
      "1 2 3 4 5 6 7 8 9 10 "
     ]
    }
   ],
   "source": [
    "#Control Statements #iteration\n",
    "    # For \n",
    "    #While\n",
    "# for(datetype;Condition;increment/decre){\n",
    "#     --Stms\n",
    "# }\n",
    "    # for var member/range:\n",
    "    #     ...Stms\n",
    "    #     ...incre/decre..\n",
    "#Generate the first 10 natural numbers sum\n",
    "#1,2,3,,...10\n",
    "for i in range(1,10+1):\n",
    "    print(i,end=\" \")   \n",
    "    \n",
    "    \n",
    "    \n",
    "    "
   ]
  },
  {
   "cell_type": "code",
   "execution_count": 65,
   "metadata": {},
   "outputs": [
    {
     "name": "stdout",
     "output_type": "stream",
     "text": [
      "0 2 4 6 8 10 12 14 16 18 20 22 24 26 28 30 32 34 36 38 40 42 44 46 48 50 52 54 56 58 60 62 64 66 68 70 72 74 76 78 80 82 84 86 88 90 92 94 96 98 100 \n",
      "Total even numbers are : 51\n"
     ]
    }
   ],
   "source": [
    "#even number\n",
    "count=0\n",
    "for evenNum in range(0,100+1,2):\n",
    "    count=count+1\n",
    "    print(evenNum,end=\" \")\n",
    "print(\"\\nTotal even numbers are :\",count)"
   ]
  },
  {
   "cell_type": "code",
   "execution_count": 71,
   "metadata": {},
   "outputs": [
    {
     "name": "stdout",
     "output_type": "stream",
     "text": [
      "0 2 4 6 8 10 12 14 16 18 20 22 24 26 28 30 32 34 36 38 40 42 44 46 48 50 52 54 56 58 60 62 64 66 68 70 72 74 76 78 80 82 84 86 88 90 92 94 96 98 100 \n",
      "total  51\n"
     ]
    }
   ],
   "source": [
    "c=0\n",
    "for i in range(0,101):\n",
    "    if i%2==0:\n",
    "        c+=1\n",
    "        print(i,end=\" \")\n",
    "print(\"\\ntotal \",c)\n",
    "\n"
   ]
  },
  {
   "cell_type": "markdown",
   "metadata": {},
   "source": [
    "### Task 6:\n",
    "* Generate the all yeap years in range of 2000 to 2020\n"
   ]
  },
  {
   "cell_type": "code",
   "execution_count": 80,
   "metadata": {},
   "outputs": [
    {
     "name": "stdout",
     "output_type": "stream",
     "text": [
      "1900\n",
      "2020\n",
      "1904 1908 1912 1916 1920 1924 1928 1932 1936 1940 1944 1948 1952 1956 1960 1964 1968 1972 1976 1980 1984 1988 1992 1996 2000 2004 2008 2012 2016 2020 \n",
      " Total years are : 30\n"
     ]
    }
   ],
   "source": [
    "st=int(input())\n",
    "en=int(input())\n",
    "c=0\n",
    "for year in range(st,en+1):\n",
    "    if (year%400==0 or (year%100!=0) and (year%4==0)):\n",
    "        c=c+1\n",
    "        print(year,end=\" \")\n",
    "print(\"\\n Total years are :\",c)\n",
    "    \n",
    "        "
   ]
  },
  {
   "cell_type": "code",
   "execution_count": 90,
   "metadata": {},
   "outputs": [
    {
     "name": "stdout",
     "output_type": "stream",
     "text": [
      "20\n",
      "1,2,3,4,5,6,7,8,9,10,11,12,13,14,15,16,17,18,19,20,\n",
      "Natural numbers Sum= 210\n",
      "Even Numbers sum= 110\n",
      "Odd Numbers Sum= 100\n",
      "You Done a Grate Job\n"
     ]
    }
   ],
   "source": [
    "# input:20\n",
    "# output:1,2,3,4,5 ..........20\n",
    "#     sum=?\n",
    "n=int(input())\n",
    "n_sum=0\n",
    "e_sum=0\n",
    "o_sum=0\n",
    "for i in range(1,n+1):#--->start-1,end=n+1-->20\n",
    "    print(i,end=\",\")\n",
    "    n_sum=n_sum+i#0+1-->1\n",
    "    if(i%2!=1):# i%2==0\n",
    "        e_sum=e_sum+i\n",
    "    if(i%2!=0):#i%2==1\n",
    "        o_sum=o_sum+i\n",
    "print(\"\\nNatural numbers Sum=\",n_sum)\n",
    "print(\"Even Numbers sum=\",e_sum)\n",
    "print(\"Odd Numbers Sum=\",o_sum)\n",
    "if(n_sum==e_sum+o_sum):\n",
    "    print(\"You Did a Grate Job\")\n",
    "else:\n",
    "    print(\"You are the looser\")\n"
   ]
  },
  {
   "cell_type": "code",
   "execution_count": null,
   "metadata": {},
   "outputs": [],
   "source": [
    "Task-6\n",
    "input:10\n",
    "Explanation:1+10  2+9  3+8 4+7 ......\n",
    "output:  11 11   11    11\n",
    "\n",
    "Task:7\n",
    "input:10\n",
    "Explanation:1+2^2 2+3^2 3+4^2 ......\n",
    "output: 5  11 19 ...\n",
    "\n",
    "Task:8\n",
    "input:10\n",
    "Explanation: 10+(1^2+1) 9+(2^2+1) 8+(3^2)+1 7+(4^2)+1\n",
    "output:12 14 18 24 28 ....\n"
   ]
  },
  {
   "cell_type": "code",
   "execution_count": 2,
   "metadata": {},
   "outputs": [
    {
     "name": "stdout",
     "output_type": "stream",
     "text": [
      "Enter the input value: 20\n",
      "21 21 21 21 21 21 21 21 21 21 21 21 21 21 21 21 21 21 21 21 "
     ]
    }
   ],
   "source": [
    "t=int(input(\"Enter the input value: \"))\n",
    "i=1\n",
    "for i in range(i,t+1):\n",
    "    result=i+t\n",
    "    t=t-1\n",
    "    print(result,end=\" \")"
   ]
  },
  {
   "cell_type": "code",
   "execution_count": 11,
   "metadata": {},
   "outputs": [
    {
     "name": "stdout",
     "output_type": "stream",
     "text": [
      "20\n",
      "21,21,21,21,21,21,21,21,21,21,21,21,21,21,21,21,21,21,21,21,"
     ]
    }
   ],
   "source": [
    "n=int(input())\n",
    "tem=1\n",
    "for i in range(n,0,-1):\n",
    "    print(i+tem,end=\",\")\n",
    "    tem=tem+1 #temp+=1"
   ]
  },
  {
   "cell_type": "code",
   "execution_count": 13,
   "metadata": {},
   "outputs": [
    {
     "name": "stdout",
     "output_type": "stream",
     "text": [
      "10\n",
      "5 11 19 29 41 55 71 89 109 "
     ]
    }
   ],
   "source": [
    "c=1\n",
    "n=int(input())\n",
    "for i in range(2,n+1):\n",
    "    expre=c+i**2\n",
    "    c=c+1\n",
    "    print(expre,end=\" \")"
   ]
  },
  {
   "cell_type": "code",
   "execution_count": 19,
   "metadata": {},
   "outputs": [
    {
     "name": "stdout",
     "output_type": "stream",
     "text": [
      "10\n",
      "1 ---> 1 + ( 2 **2)= 5\n",
      "2 ---> 2 + ( 3 **2)= 11\n",
      "3 ---> 3 + ( 4 **2)= 19\n",
      "4 ---> 4 + ( 5 **2)= 29\n",
      "5 ---> 5 + ( 6 **2)= 41\n",
      "6 ---> 6 + ( 7 **2)= 55\n",
      "7 ---> 7 + ( 8 **2)= 71\n",
      "8 ---> 8 + ( 9 **2)= 89\n",
      "9 ---> 9 + ( 10 **2)= 109\n",
      "10 ---> 10 + ( 11 **2)= 131\n",
      "sum= 560\n"
     ]
    }
   ],
   "source": [
    "n=int(input())\n",
    "n_sum=0\n",
    "for i in range(1,n+1):\n",
    "    n_sum=n_sum+(i+(i+1)**2)\n",
    "    print(i,\"--->\",i,\"+\",\"(\",i+1,\"**2)=\",i+(i+1)**2)\n",
    "print(\"sum=\",n_sum)"
   ]
  },
  {
   "cell_type": "code",
   "execution_count": 20,
   "metadata": {},
   "outputs": [
    {
     "name": "stdout",
     "output_type": "stream",
     "text": [
      "10\n",
      "12 14 18 24 32 42 54 68 84 102 "
     ]
    }
   ],
   "source": [
    "n=int(input())\n",
    "t=1\n",
    "for i in range(n,0,-1):\n",
    "    expre=i+(t**2)+1\n",
    "    print(expre,end=\" \")\n",
    "    t+=1"
   ]
  },
  {
   "cell_type": "code",
   "execution_count": null,
   "metadata": {},
   "outputs": [],
   "source": []
  },
  {
   "cell_type": "code",
   "execution_count": null,
   "metadata": {},
   "outputs": [],
   "source": []
  }
 ],
 "metadata": {
  "kernelspec": {
   "display_name": "Python 3",
   "language": "python",
   "name": "python3"
  },
  "language_info": {
   "codemirror_mode": {
    "name": "ipython",
    "version": 3
   },
   "file_extension": ".py",
   "mimetype": "text/x-python",
   "name": "python",
   "nbconvert_exporter": "python",
   "pygments_lexer": "ipython3",
   "version": "3.7.3"
  }
 },
 "nbformat": 4,
 "nbformat_minor": 2
}
