{
 "cells": [
  {
   "cell_type": "code",
   "execution_count": null,
   "metadata": {},
   "outputs": [],
   "source": [
    "Task-1\n",
    "input:10\n",
    "expression1=10+(10^10)+9 9+(9^9)+8 8+(8^8)+7 7+(7^7)+6\n",
    "              ?              ?         ?        ?\n",
    "expression2=1+(1^1)+2  2+(2^2)+3  3+(3^3)+4 4+(4^4)+5\n",
    "                ?       ?           ?         ?\n",
    "output: expression1+expression2  expre1+expre2   .......10\n",
    "                  ?                    ?"
   ]
  },
  {
   "cell_type": "code",
   "execution_count": 1,
   "metadata": {},
   "outputs": [
    {
     "name": "stdout",
     "output_type": "stream",
     "text": [
      "10\n",
      "10000000023,387420510,16777235,823560,46671,3138,267,36,11,6,"
     ]
    }
   ],
   "source": [
    "n=int(input())\n",
    "temp=1\n",
    "for i in range(n,0,-1):\n",
    "    expre1=i+(i**i)+i-1\n",
    "    expre2=temp+(temp**temp)+temp+1\n",
    "    print(expre1+expre2,end=\",\")"
   ]
  },
  {
   "cell_type": "code",
   "execution_count": 4,
   "metadata": {},
   "outputs": [
    {
     "name": "stdout",
     "output_type": "stream",
     "text": [
      "10\n",
      "Given Number  10 is Not a prime\n"
     ]
    }
   ],
   "source": [
    "## prime Series\n",
    "# input:7\n",
    "# output:yes it is prime\n",
    "n=int(input())\n",
    "count=0\n",
    "for i in range(1,n+1):\n",
    "    if(n%i==0):\n",
    "        count=count+1\n",
    "if(count==2):\n",
    "    print(\"Yes given number \",n,\"is Prime\")\n",
    "else:\n",
    "    print(\"Given Number \",n, \"is Not a prime\")"
   ]
  },
  {
   "cell_type": "code",
   "execution_count": 8,
   "metadata": {},
   "outputs": [
    {
     "name": "stdout",
     "output_type": "stream",
     "text": [
      "1\n",
      "10\n",
      "2 3 5 7 sum of Given Prime Numbers is: 17\n"
     ]
    }
   ],
   "source": [
    "# Series of PrimeNumbers b/w two Ranges\n",
    "# input:1 10\n",
    "# ouput:2 3 5 7\n",
    "# 1 2 3 4 5 6 7 8 9 10\n",
    "# 1-->1\n",
    "# 2-->1,2\n",
    "# 3-->1,3\n",
    "# 4-->1,2,4\n",
    "# 5-->1,5\n",
    "# 6-->1,2,3,6\n",
    "# 7-->1,7\n",
    "# 8-->1,2,4,8\n",
    "# 9-->1,3,9\n",
    "# 10-->1,2,5,10\n",
    "input1=int(input())\n",
    "input2=int(input())\n",
    "p_sum=0\n",
    "for i in range(input1,input2+1):\n",
    "    count=0\n",
    "    for j in range(1,i+1):\n",
    "        if(i%j==0):\n",
    "            count=count+1\n",
    "    if(count==2):\n",
    "        print(i,end=\" \")\n",
    "        p_sum=p_sum+i\n",
    "print(\"\\nsum of Given Prime Numbers is:\",p_sum)\n"
   ]
  },
  {
   "cell_type": "code",
   "execution_count": 11,
   "metadata": {},
   "outputs": [
    {
     "name": "stdout",
     "output_type": "stream",
     "text": [
      "10\n",
      "Not a perfect\n"
     ]
    }
   ],
   "source": [
    "# #Perfect Number\n",
    "# 6-->1,2,3 -->6=6-->perfect\n",
    "# 28-->1,2,4,7,14,-->28\n",
    "# input:6\n",
    "# output:yes it is perfect number\n",
    "n=int(input())\n",
    "pe_sum=0\n",
    "for i in range(1,n):\n",
    "    if(n%i==0):\n",
    "        pe_sum=pe_sum+i\n",
    "if(n==pe_sum):\n",
    "    print(\"Yes Given Number is perfect\")\n",
    "else:\n",
    "    print(\"Not a perfect\")"
   ]
  },
  {
   "cell_type": "code",
   "execution_count": 14,
   "metadata": {},
   "outputs": [
    {
     "name": "stdout",
     "output_type": "stream",
     "text": [
      "1\n",
      "1000\n",
      "6\n",
      "28\n",
      "496\n"
     ]
    }
   ],
   "source": [
    "# input:1 500\n",
    "# outpu:6,28,496 -->\n",
    "n1=int(input())\n",
    "n2=int(input())\n",
    "for i in range(n1,n2+1):\n",
    "    p_sum=0\n",
    "    for j in range(1,i):\n",
    "        if(i%j==0):\n",
    "            p_sum=p_sum+j\n",
    "    if(i==p_sum):\n",
    "        print(i)"
   ]
  },
  {
   "cell_type": "code",
   "execution_count": null,
   "metadata": {},
   "outputs": [],
   "source": [
    "#while\n",
    "# if (n=5):\n",
    "#     break\n",
    "\n",
    "while True:\n",
    "    n=int(input())\n",
    "    if n==5:\n",
    "        break\n",
    "\n",
    "        "
   ]
  },
  {
   "cell_type": "markdown",
   "metadata": {},
   "source": [
    "##### print the total letter present in the  number=34216324"
   ]
  },
  {
   "cell_type": "code",
   "execution_count": 3,
   "metadata": {},
   "outputs": [
    {
     "name": "stdout",
     "output_type": "stream",
     "text": [
      "Enter the number : 2342\n",
      "Total letters are : 4\n"
     ]
    }
   ],
   "source": [
    "number=int(input(\"Enter the number : \"))\n",
    "#7653\n",
    "c=0\n",
    "while number>0:#7653>0(T),765>0(T),76>0(T),7>0(T),0>0(F)\n",
    "    number=number//10#-->7653//10->765,765//10-->76,76//10-->7,7//10-->0\n",
    "    c=c+1#1,2,3,4\n",
    "print(\"Total letters are :\",c)\n",
    "    \n",
    "#      %-->reminder\n",
    "#      //-->quotint\n",
    "#     2345%10-->5\n",
    "#     2345//10-->234\n",
    "#     6%10-->6\n",
    "#     6//10-->0\n",
    "    "
   ]
  },
  {
   "cell_type": "code",
   "execution_count": 6,
   "metadata": {},
   "outputs": [
    {
     "name": "stdout",
     "output_type": "stream",
     "text": [
      "1234\n",
      "10\n"
     ]
    }
   ],
   "source": [
    "# input:45682\n",
    "# ouput:4+5+6+8+2 -->25\n",
    "n=int(input())\n",
    "d_sum=0\n",
    "while(n!=0):#or n>0\n",
    "    r=n%10#-->45682-->2\n",
    "    d_sum=d_sum+r\n",
    "    n=n//10#45682//10-->4568\n",
    "print(d_sum)"
   ]
  },
  {
   "cell_type": "code",
   "execution_count": 8,
   "metadata": {},
   "outputs": [
    {
     "name": "stdout",
     "output_type": "stream",
     "text": [
      "1234\n",
      "24\n"
     ]
    }
   ],
   "source": [
    "n=int(input())\n",
    "d_pro=1\n",
    "while(n>0):\n",
    "    r=n%10\n",
    "    d_pro=d_pro*r\n",
    "    n=n//10\n",
    "print(d_pro)"
   ]
  },
  {
   "cell_type": "code",
   "execution_count": null,
   "metadata": {},
   "outputs": [],
   "source": [
    "Task:2\n",
    "input:98456\n",
    "explanation:6*5 5*5 4*5 8*5 9*5\n",
    "ouput:30 25 20 40 45"
   ]
  },
  {
   "cell_type": "code",
   "execution_count": 13,
   "metadata": {},
   "outputs": [
    {
     "name": "stdout",
     "output_type": "stream",
     "text": [
      "098765434567987655676\n",
      "20 98765434567987655676\n",
      "120 140 120 100 100 120 140 160 180 140 120 100 80 60 80 100 120 140 160 180 "
     ]
    }
   ],
   "source": [
    "n=int(input())\n",
    "temp=n\n",
    "c=0\n",
    "while(n>0):\n",
    "    n=n//10\n",
    "    c=c+1\n",
    "print(c,temp)\n",
    "while(temp>0):\n",
    "    l=temp%10\n",
    "    print(l*c,end=\" \")\n",
    "    temp=temp//10"
   ]
  },
  {
   "cell_type": "code",
   "execution_count": null,
   "metadata": {},
   "outputs": [],
   "source": [
    "Task:3\n",
    "input:6543\n",
    "Explanation:3*4+1 4*3+2 5*2+3 6*1+4\n",
    "ouput: 13  14  13  10"
   ]
  },
  {
   "cell_type": "code",
   "execution_count": 17,
   "metadata": {},
   "outputs": [
    {
     "name": "stdout",
     "output_type": "stream",
     "text": [
      "6543\n",
      "13 14 13 10 "
     ]
    }
   ],
   "source": [
    "n=int(input())\n",
    "c=0\n",
    "temp=n\n",
    "while(n>0):\n",
    "    n=n//10\n",
    "    c+=1\n",
    "v=1\n",
    "while(temp>0):\n",
    "    l=temp%10\n",
    "    print(l*c+v,end=\" \")\n",
    "    temp=temp//10\n",
    "    c=c-1\n",
    "    v=v+1\n"
   ]
  },
  {
   "cell_type": "code",
   "execution_count": null,
   "metadata": {},
   "outputs": [],
   "source": [
    "Task:4\n",
    "input:\n",
    "    6543\n",
    "    9876\n",
    "explanation:3*6 4*7 5*8 6*9\n",
    "output:18 28 40 54"
   ]
  },
  {
   "cell_type": "code",
   "execution_count": 19,
   "metadata": {},
   "outputs": [
    {
     "name": "stdout",
     "output_type": "stream",
     "text": [
      "1234\n",
      "4321\n",
      "4 6 6 4 "
     ]
    }
   ],
   "source": [
    "n1=int(input())\n",
    "n2=int(input())\n",
    "while n1!=0 and n2 !=0:\n",
    "    r1=n1%10\n",
    "    r2=n2%10\n",
    "    print(r1*r2,end=\" \")\n",
    "    n1=n1//10\n",
    "    n2=n2//10"
   ]
  },
  {
   "cell_type": "code",
   "execution_count": null,
   "metadata": {},
   "outputs": [],
   "source": [
    "Task 5:\n",
    "input:1234\n",
    "      8753\n",
    "Explanation:4+3*4 3+5*3 2*7+2 1+8*1\n",
    "output:28 24 28 9\n",
    "    \n",
    "    "
   ]
  },
  {
   "cell_type": "code",
   "execution_count": 10,
   "metadata": {},
   "outputs": [
    {
     "name": "stdout",
     "output_type": "stream",
     "text": [
      "1234\n",
      "1234\n",
      "32 18 8 2 "
     ]
    }
   ],
   "source": [
    "n1=int(input())\n",
    "n2=int(input())\n",
    "c=0\n",
    "t=n1\n",
    "while n1>0:\n",
    "    n1=n1//10\n",
    "    c=c+1\n",
    "while (t>0 and n2>0):\n",
    "    r1=t%10\n",
    "    r2=n2%10\n",
    "    print((r1+r2)*c,end=\" \")\n",
    "    t=t//10\n",
    "    n2=n2//10\n",
    "    c=c-1\n"
   ]
  },
  {
   "cell_type": "markdown",
   "metadata": {},
   "source": [
    "# Strings in python\n",
    "* set of char set\n",
    "* The Python string data type is a sequence of one or more individual characters that could consist of letters, numbers, whitespace characters, or symbols. \n",
    "* We access strings through indexing, slicing them through their character sequences, and go over some counting and character location methods.\n",
    "* How Strings are Indexed?Each of a string’s characters correspond to an index number, starting with the index number 0. In this spaces also be indexed.\n",
    "* We have to access both positive index and negitive index\n",
    "    +tv-->starts with zero or 0\n",
    "    -tv-->starts with -1b\n",
    "    \n",
    "    \n",
    "    \n",
    "    \n",
    "    \n",
    "    "
   ]
  },
  {
   "cell_type": "code",
   "execution_count": 11,
   "metadata": {},
   "outputs": [
    {
     "data": {
      "text/plain": [
       "'cbit'"
      ]
     },
     "execution_count": 11,
     "metadata": {},
     "output_type": "execute_result"
    }
   ],
   "source": [
    "s=\"cbit\"#string Declaration\n",
    "s\n"
   ]
  },
  {
   "cell_type": "code",
   "execution_count": 26,
   "metadata": {
    "scrolled": true
   },
   "outputs": [
    {
     "name": "stdout",
     "output_type": "stream",
     "text": [
      "first index  b\n",
      "3rd index of given string t\n",
      "2nd negitive index value  i\n",
      "except first chr bit\n",
      "except first chr bit\n",
      "first letter cap Cbit\n"
     ]
    }
   ],
   "source": [
    "print(\"first index \",s[1])\n",
    "print(\"3rd index of given string\",s[3])\n",
    "#print(\"5th char in give n str\",s[5])\n",
    "print(\"2nd negitive index value \",s[-2])\n",
    "print(\"except first chr\",s[1:4])\n",
    "print(\"except first chr\",s[1:4])\n",
    "print(\"first letter cap\",s.capitalize())\n"
   ]
  },
  {
   "cell_type": "code",
   "execution_count": 13,
   "metadata": {
    "scrolled": true
   },
   "outputs": [
    {
     "name": "stdout",
     "output_type": "stream",
     "text": [
      "['__add__', '__class__', '__contains__', '__delattr__', '__dir__', '__doc__', '__eq__', '__format__', '__ge__', '__getattribute__', '__getitem__', '__getnewargs__', '__gt__', '__hash__', '__init__', '__init_subclass__', '__iter__', '__le__', '__len__', '__lt__', '__mod__', '__mul__', '__ne__', '__new__', '__reduce__', '__reduce_ex__', '__repr__', '__rmod__', '__rmul__', '__setattr__', '__sizeof__', '__str__', '__subclasshook__', 'capitalize', 'casefold', 'center', 'count', 'encode', 'endswith', 'expandtabs', 'find', 'format', 'format_map', 'index', 'isalnum', 'isalpha', 'isascii', 'isdecimal', 'isdigit', 'isidentifier', 'islower', 'isnumeric', 'isprintable', 'isspace', 'istitle', 'isupper', 'join', 'ljust', 'lower', 'lstrip', 'maketrans', 'partition', 'replace', 'rfind', 'rindex', 'rjust', 'rpartition', 'rsplit', 'rstrip', 'split', 'splitlines', 'startswith', 'strip', 'swapcase', 'title', 'translate', 'upper', 'zfill'] "
     ]
    }
   ],
   "source": [
    "#dir\n",
    "print(dir(str),end=\" \")"
   ]
  },
  {
   "cell_type": "code",
   "execution_count": 40,
   "metadata": {
    "scrolled": true
   },
   "outputs": [
    {
     "name": "stdout",
     "output_type": "stream",
     "text": [
      "c\n",
      "b\n",
      "i\n",
      "t\n",
      "a\n",
      "p\n",
      "s\n",
      "s\n",
      "d\n",
      "c\n",
      "total count is: 10\n"
     ]
    }
   ],
   "source": [
    "#input->cbit\n",
    "# c\n",
    "# b\n",
    "# i\n",
    "# t\n",
    "st='cbitapssdc'\n",
    "c=0\n",
    "for letter in st:\n",
    "    c=c+1\n",
    "    print(letter)\n",
    "print(\"total count is:\",c)\n"
   ]
  },
  {
   "cell_type": "code",
   "execution_count": 28,
   "metadata": {},
   "outputs": [
    {
     "data": {
      "text/plain": [
       "1"
      ]
     },
     "execution_count": 28,
     "metadata": {},
     "output_type": "execute_result"
    }
   ],
   "source": [
    "s1=\"apssdc\"\n",
    "s1.count(\"d\")"
   ]
  },
  {
   "cell_type": "code",
   "execution_count": 29,
   "metadata": {},
   "outputs": [
    {
     "data": {
      "text/plain": [
       "True"
      ]
     },
     "execution_count": 29,
     "metadata": {},
     "output_type": "execute_result"
    }
   ],
   "source": [
    "s1.islower()"
   ]
  },
  {
   "cell_type": "code",
   "execution_count": 30,
   "metadata": {},
   "outputs": [
    {
     "data": {
      "text/plain": [
       "False"
      ]
     },
     "execution_count": 30,
     "metadata": {},
     "output_type": "execute_result"
    }
   ],
   "source": [
    "s1.isupper()"
   ]
  },
  {
   "cell_type": "code",
   "execution_count": 31,
   "metadata": {},
   "outputs": [
    {
     "data": {
      "text/plain": [
       "False"
      ]
     },
     "execution_count": 31,
     "metadata": {},
     "output_type": "execute_result"
    }
   ],
   "source": [
    "s.isupper()"
   ]
  },
  {
   "cell_type": "code",
   "execution_count": 32,
   "metadata": {},
   "outputs": [
    {
     "data": {
      "text/plain": [
       "'hELLO aPSSDC'"
      ]
     },
     "execution_count": 32,
     "metadata": {},
     "output_type": "execute_result"
    }
   ],
   "source": [
    "ns=\"Hello Apssdc\"\n",
    "ns.swapcase()"
   ]
  },
  {
   "cell_type": "code",
   "execution_count": 33,
   "metadata": {},
   "outputs": [
    {
     "name": "stdout",
     "output_type": "stream",
     "text": [
      "cbit\n",
      "apssdc\n",
      "Hello Apssdc\n"
     ]
    }
   ],
   "source": [
    "print(s)\n",
    "print(s1)\n",
    "print(ns)"
   ]
  },
  {
   "cell_type": "code",
   "execution_count": 34,
   "metadata": {},
   "outputs": [
    {
     "data": {
      "text/plain": [
       "'tibc'"
      ]
     },
     "execution_count": 34,
     "metadata": {},
     "output_type": "execute_result"
    }
   ],
   "source": [
    "s[::-1]#string reverse "
   ]
  },
  {
   "cell_type": "code",
   "execution_count": 41,
   "metadata": {},
   "outputs": [
    {
     "data": {
      "text/plain": [
       "'cbitapssdc'"
      ]
     },
     "execution_count": 41,
     "metadata": {},
     "output_type": "execute_result"
    }
   ],
   "source": [
    "st"
   ]
  },
  {
   "cell_type": "code",
   "execution_count": 42,
   "metadata": {},
   "outputs": [
    {
     "data": {
      "text/plain": [
       "10"
      ]
     },
     "execution_count": 42,
     "metadata": {},
     "output_type": "execute_result"
    }
   ],
   "source": [
    "len(st)"
   ]
  },
  {
   "cell_type": "code",
   "execution_count": 45,
   "metadata": {},
   "outputs": [
    {
     "name": "stdout",
     "output_type": "stream",
     "text": [
      "Enter the string..malayalam\n",
      "Palidrom\n"
     ]
    }
   ],
   "source": [
    "t=input(\"Enter the string..\")\n",
    "t1=t[::-1]\n",
    "if t==t1:\n",
    "    print(\"Palidrom\")\n",
    "else:\n",
    "    print(\"Not a palindrom\")"
   ]
  },
  {
   "cell_type": "code",
   "execution_count": 47,
   "metadata": {},
   "outputs": [
    {
     "data": {
      "text/plain": [
       "9"
      ]
     },
     "execution_count": 47,
     "metadata": {},
     "output_type": "execute_result"
    }
   ],
   "source": [
    "#\"python programming\"\n",
    "p=\"python programming\"\n",
    "p1=len(p)//2\n",
    "p1"
   ]
  },
  {
   "cell_type": "code",
   "execution_count": 48,
   "metadata": {},
   "outputs": [
    {
     "data": {
      "text/plain": [
       "'o'"
      ]
     },
     "execution_count": 48,
     "metadata": {},
     "output_type": "execute_result"
    }
   ],
   "source": [
    "p[9]"
   ]
  },
  {
   "cell_type": "code",
   "execution_count": 49,
   "metadata": {},
   "outputs": [
    {
     "data": {
      "text/plain": [
       "'muni'"
      ]
     },
     "execution_count": 49,
     "metadata": {},
     "output_type": "execute_result"
    }
   ],
   "source": [
    "m=\" muni \"\n",
    "m.strip()\n"
   ]
  },
  {
   "cell_type": "code",
   "execution_count": 50,
   "metadata": {
    "scrolled": true
   },
   "outputs": [
    {
     "data": {
      "text/plain": [
       "'muni '"
      ]
     },
     "execution_count": 50,
     "metadata": {},
     "output_type": "execute_result"
    }
   ],
   "source": [
    "m.lstrip()"
   ]
  },
  {
   "cell_type": "code",
   "execution_count": 51,
   "metadata": {},
   "outputs": [
    {
     "data": {
      "text/plain": [
       "' muni'"
      ]
     },
     "execution_count": 51,
     "metadata": {},
     "output_type": "execute_result"
    }
   ],
   "source": [
    "m.rstrip()"
   ]
  },
  {
   "cell_type": "code",
   "execution_count": 57,
   "metadata": {},
   "outputs": [
    {
     "data": {
      "text/plain": [
       "False"
      ]
     },
     "execution_count": 57,
     "metadata": {},
     "output_type": "execute_result"
    }
   ],
   "source": [
    "sd=\"yeruiyueyuiyy364736576 %#$#$%\"\n",
    "sd.isalpha()"
   ]
  },
  {
   "cell_type": "code",
   "execution_count": 53,
   "metadata": {},
   "outputs": [
    {
     "data": {
      "text/plain": [
       "False"
      ]
     },
     "execution_count": 53,
     "metadata": {},
     "output_type": "execute_result"
    }
   ],
   "source": [
    "sd.isnumeric()"
   ]
  },
  {
   "cell_type": "code",
   "execution_count": 61,
   "metadata": {},
   "outputs": [
    {
     "data": {
      "text/plain": [
       "False"
      ]
     },
     "execution_count": 61,
     "metadata": {},
     "output_type": "execute_result"
    }
   ],
   "source": [
    "#print(sd.isalnum())\n",
    "sd.isspace()"
   ]
  },
  {
   "cell_type": "code",
   "execution_count": 65,
   "metadata": {},
   "outputs": [
    {
     "data": {
      "text/plain": [
       "['hello', 'world']"
      ]
     },
     "execution_count": 65,
     "metadata": {},
     "output_type": "execute_result"
    }
   ],
   "source": [
    "s=\"hello-world\"\n",
    "s4=s.split(\"-\")\n",
    "s4"
   ]
  },
  {
   "cell_type": "code",
   "execution_count": 68,
   "metadata": {},
   "outputs": [
    {
     "data": {
      "text/plain": [
       "'hello@world'"
      ]
     },
     "execution_count": 68,
     "metadata": {},
     "output_type": "execute_result"
    }
   ],
   "source": [
    "s5=\"@\".join(s4)\n",
    "s5"
   ]
  },
  {
   "cell_type": "code",
   "execution_count": 70,
   "metadata": {},
   "outputs": [
    {
     "data": {
      "text/plain": [
       "17"
      ]
     },
     "execution_count": 70,
     "metadata": {},
     "output_type": "execute_result"
    }
   ],
   "source": [
    "data=\"This is python programming workshop\"\n",
    "l=len(data)\n",
    "middle=l//2\n",
    "middle"
   ]
  },
  {
   "cell_type": "code",
   "execution_count": 72,
   "metadata": {},
   "outputs": [
    {
     "data": {
      "text/plain": [
       "'ogramming workshop'"
      ]
     },
     "execution_count": 72,
     "metadata": {},
     "output_type": "execute_result"
    }
   ],
   "source": [
    "r_Data=data[middle:]\n",
    "r_Data"
   ]
  },
  {
   "cell_type": "code",
   "execution_count": 75,
   "metadata": {},
   "outputs": [
    {
     "data": {
      "text/plain": [
       "'This is python pr'"
      ]
     },
     "execution_count": 75,
     "metadata": {},
     "output_type": "execute_result"
    }
   ],
   "source": [
    "l_data=data[:middle]\n",
    "l_data"
   ]
  },
  {
   "cell_type": "code",
   "execution_count": 78,
   "metadata": {},
   "outputs": [
    {
     "name": "stdout",
     "output_type": "stream",
     "text": [
      "T --> 1\n",
      "h --> 3\n",
      "i --> 3\n",
      "s --> 3\n",
      "  --> 4\n",
      "i --> 3\n",
      "s --> 3\n",
      "  --> 4\n",
      "p --> 3\n",
      "y --> 1\n",
      "t --> 1\n",
      "h --> 3\n",
      "o --> 4\n",
      "n --> 2\n",
      "  --> 4\n",
      "p --> 3\n",
      "r --> 3\n",
      "o --> 4\n",
      "g --> 2\n",
      "r --> 3\n",
      "a --> 1\n",
      "m --> 2\n",
      "m --> 2\n",
      "i --> 3\n",
      "n --> 2\n",
      "g --> 2\n",
      "  --> 4\n",
      "w --> 1\n",
      "o --> 4\n",
      "r --> 3\n",
      "k --> 1\n",
      "s --> 3\n",
      "h --> 3\n",
      "o --> 4\n",
      "p --> 3\n"
     ]
    }
   ],
   "source": [
    "# Frequency of each character given by string\n",
    "for ch in data:\n",
    "    print(ch,\"-->\",data.count(ch))"
   ]
  },
  {
   "cell_type": "code",
   "execution_count": 79,
   "metadata": {},
   "outputs": [
    {
     "data": {
      "text/plain": [
       "'This is python programming workshop'"
      ]
     },
     "execution_count": 79,
     "metadata": {},
     "output_type": "execute_result"
    }
   ],
   "source": [
    "data"
   ]
  },
  {
   "cell_type": "code",
   "execution_count": 83,
   "metadata": {},
   "outputs": [
    {
     "data": {
      "text/plain": [
       "'This pytonrgamwk'"
      ]
     },
     "execution_count": 83,
     "metadata": {},
     "output_type": "execute_result"
    }
   ],
   "source": [
    "# uniq Data collecting\n",
    "u_data=\"\"\n",
    "for ch in data:\n",
    "    if (ch not in u_data):\n",
    "        u_data=u_data+ch\n",
    "u_data"
   ]
  },
  {
   "cell_type": "code",
   "execution_count": 84,
   "metadata": {},
   "outputs": [
    {
     "name": "stdout",
     "output_type": "stream",
     "text": [
      "This is python programming workshop\n",
      "This pytonrgamwk\n"
     ]
    }
   ],
   "source": [
    "print(data)\n",
    "print(u_data)"
   ]
  },
  {
   "cell_type": "code",
   "execution_count": 87,
   "metadata": {},
   "outputs": [
    {
     "name": "stdout",
     "output_type": "stream",
     "text": [
      "T ---> 1\n",
      "h ---> 3\n",
      "i ---> 3\n",
      "s ---> 3\n",
      "  ---> 4\n",
      "p ---> 3\n",
      "y ---> 1\n",
      "t ---> 1\n",
      "o ---> 4\n",
      "n ---> 2\n",
      "r ---> 3\n",
      "g ---> 2\n",
      "a ---> 1\n",
      "m ---> 2\n",
      "w ---> 1\n",
      "k ---> 1\n"
     ]
    }
   ],
   "source": [
    "for ch in u_data:\n",
    "        print(ch,\"--->\",data.count(ch))\n",
    "    "
   ]
  },
  {
   "cell_type": "code",
   "execution_count": 90,
   "metadata": {},
   "outputs": [
    {
     "name": "stdout",
     "output_type": "stream",
     "text": [
      "pythonpythonpythonpythonpython\n"
     ]
    }
   ],
   "source": [
    "data1=\"python\"\n",
    "print(data1*5)"
   ]
  },
  {
   "cell_type": "code",
   "execution_count": null,
   "metadata": {},
   "outputs": [],
   "source": [
    "# input:\"AAAABBBCCCCCDDDDDD\"\n",
    "# ouput:A4B3C5D6"
   ]
  },
  {
   "cell_type": "code",
   "execution_count": 94,
   "metadata": {},
   "outputs": [
    {
     "name": "stdout",
     "output_type": "stream",
     "text": [
      "AAAABBBCCCCCDDDDDD\n"
     ]
    },
    {
     "data": {
      "text/plain": [
       "'A4B3C5D6'"
      ]
     },
     "execution_count": 94,
     "metadata": {},
     "output_type": "execute_result"
    }
   ],
   "source": [
    "data=input()\n",
    "u_data=\"\"\n",
    "for ch in data:\n",
    "    if ch not in u_data:\n",
    "        u_data=u_data+ch\n",
    "o_data=\"\"\n",
    "for ch in u_data:\n",
    "    c=data.count(ch)\n",
    "    o_data=o_data+(ch+str(c))\n",
    "o_data"
   ]
  },
  {
   "cell_type": "code",
   "execution_count": 105,
   "metadata": {},
   "outputs": [
    {
     "name": "stdout",
     "output_type": "stream",
     "text": [
      "ECE3CSE4EEE5CIV2\n",
      "ECEECEECE\n",
      "CSECSECSECSE\n",
      "EEEEEEEEEEEEEEE\n",
      "CIVCIV\n"
     ]
    }
   ],
   "source": [
    "# input:\"ECE3CSE4EEE5CIV2\"\n",
    "# ouput;\n",
    "#     ECEECEECE\n",
    "#     CSECSECSECSE\n",
    "#     EEEEEEEEEEEEEEE\n",
    "#     CIVCIV\n",
    "# data=input()\n",
    "# s_data=\"\"\n",
    "# i_data=\"\"\n",
    "# for ch in data:\n",
    "#     if(ch.isalpha()):\n",
    "#         s_data=s_data+ch\n",
    "#     if(ch.isnumeric()):\n",
    "#         i_data=i_data+ch\n",
    "# print(s_data)\n",
    "# print(i_data)\n",
    "        \n",
    "# for ch in i_data:\n",
    "#     for i in range(3,len(s_data)+1,3):\n",
    "#         print(int(ch)*s_data[:i])\n",
    "data=input()\n",
    "s_data=\"\"\n",
    "for i in range(len(data)):\n",
    "    if(data[i].isalpha()):\n",
    "        s_data=s_data+data[i]\n",
    "    if(data[i].isnumeric()):\n",
    "        num=int(data[i])\n",
    "        print(s_data*num)\n",
    "        s_data=\"\"\n",
    "# or\n",
    "data=input()\n",
    "s_data=\"\"\n",
    "for ch in data:\n",
    "    if(ch.isalpha()):\n",
    "        s_data=s_data+ch\n",
    "    if(ch.isnumeric()):\n",
    "        num=int(ch)\n",
    "        print(s_data*num)\n",
    "        s_data=\"\""
   ]
  },
  {
   "cell_type": "code",
   "execution_count": 97,
   "metadata": {},
   "outputs": [
    {
     "name": "stdout",
     "output_type": "stream",
     "text": [
      "['__add__', '__class__', '__contains__', '__delattr__', '__dir__', '__doc__', '__eq__', '__format__', '__ge__', '__getattribute__', '__getitem__', '__getnewargs__', '__gt__', '__hash__', '__init__', '__init_subclass__', '__iter__', '__le__', '__len__', '__lt__', '__mod__', '__mul__', '__ne__', '__new__', '__reduce__', '__reduce_ex__', '__repr__', '__rmod__', '__rmul__', '__setattr__', '__sizeof__', '__str__', '__subclasshook__', 'capitalize', 'casefold', 'center', 'count', 'encode', 'endswith', 'expandtabs', 'find', 'format', 'format_map', 'index', 'isalnum', 'isalpha', 'isascii', 'isdecimal', 'isdigit', 'isidentifier', 'islower', 'isnumeric', 'isprintable', 'isspace', 'istitle', 'isupper', 'join', 'ljust', 'lower', 'lstrip', 'maketrans', 'partition', 'replace', 'rfind', 'rindex', 'rjust', 'rpartition', 'rsplit', 'rstrip', 'split', 'splitlines', 'startswith', 'strip', 'swapcase', 'title', 'translate', 'upper', 'zfill']\n"
     ]
    }
   ],
   "source": [
    "print(dir(str))"
   ]
  },
  {
   "cell_type": "code",
   "execution_count": 109,
   "metadata": {},
   "outputs": [],
   "source": [
    "# input:data=\"ECEITCSECIV\"\n",
    "# output:\n",
    "#         ECETIESCVIC\n",
    "# input:CBITVBITPDTRCADP\n",
    "# ouput:TIBCTIBVRTDPPDAC\n"
   ]
  },
  {
   "cell_type": "code",
   "execution_count": 119,
   "metadata": {},
   "outputs": [
    {
     "data": {
      "text/plain": [
       "'A'"
      ]
     },
     "execution_count": 119,
     "metadata": {},
     "output_type": "execute_result"
    }
   ],
   "source": [
    "chr(65)"
   ]
  },
  {
   "cell_type": "code",
   "execution_count": 120,
   "metadata": {},
   "outputs": [
    {
     "name": "stdout",
     "output_type": "stream",
     "text": [
      "0 .--> \u0000\n",
      "1 .--> \u0001\n",
      "2 .--> \u0002\n",
      "3 .--> \u0003\n",
      "4 .--> \u0004\n",
      "5 .--> \u0005\n",
      "6 .--> \u0006\n",
      "7 .--> \u0007\n",
      "8 .--> \b\n",
      "9 .--> \t\n",
      "10 .--> \n",
      "\n",
      "11 .--> \u000b",
      "\n",
      "12 .--> \f",
      "\n",
      "13 .--> \r\n",
      "14 .--> \u000e\n",
      "15 .--> \u000f\n",
      "16 .--> \u0010\n",
      "17 .--> \u0011\n",
      "18 .--> \u0012\n",
      "19 .--> \u0013\n",
      "20 .--> \u0014\n",
      "21 .--> \u0015\n",
      "22 .--> \u0016\n",
      "23 .--> \u0017\n",
      "24 .--> \u0018\n",
      "25 .--> \u0019\n",
      "26 .--> \u001a\n",
      "27 .--> \u001b\n",
      "28 .--> \u001c",
      "\n",
      "29 .--> \u001d",
      "\n",
      "30 .--> \u001e",
      "\n",
      "31 .--> \u001f\n",
      "32 .-->  \n",
      "33 .--> !\n",
      "34 .--> \"\n",
      "35 .--> #\n",
      "36 .--> $\n",
      "37 .--> %\n",
      "38 .--> &\n",
      "39 .--> '\n",
      "40 .--> (\n",
      "41 .--> )\n",
      "42 .--> *\n",
      "43 .--> +\n",
      "44 .--> ,\n",
      "45 .--> -\n",
      "46 .--> .\n",
      "47 .--> /\n",
      "48 .--> 0\n",
      "49 .--> 1\n",
      "50 .--> 2\n",
      "51 .--> 3\n",
      "52 .--> 4\n",
      "53 .--> 5\n",
      "54 .--> 6\n",
      "55 .--> 7\n",
      "56 .--> 8\n",
      "57 .--> 9\n",
      "58 .--> :\n",
      "59 .--> ;\n",
      "60 .--> <\n",
      "61 .--> =\n",
      "62 .--> >\n",
      "63 .--> ?\n",
      "64 .--> @\n",
      "65 .--> A\n",
      "66 .--> B\n",
      "67 .--> C\n",
      "68 .--> D\n",
      "69 .--> E\n",
      "70 .--> F\n",
      "71 .--> G\n",
      "72 .--> H\n",
      "73 .--> I\n",
      "74 .--> J\n",
      "75 .--> K\n",
      "76 .--> L\n",
      "77 .--> M\n",
      "78 .--> N\n",
      "79 .--> O\n",
      "80 .--> P\n",
      "81 .--> Q\n",
      "82 .--> R\n",
      "83 .--> S\n",
      "84 .--> T\n",
      "85 .--> U\n",
      "86 .--> V\n",
      "87 .--> W\n",
      "88 .--> X\n",
      "89 .--> Y\n",
      "90 .--> Z\n",
      "91 .--> [\n",
      "92 .--> \\\n",
      "93 .--> ]\n",
      "94 .--> ^\n",
      "95 .--> _\n",
      "96 .--> `\n",
      "97 .--> a\n",
      "98 .--> b\n",
      "99 .--> c\n",
      "100 .--> d\n",
      "101 .--> e\n",
      "102 .--> f\n",
      "103 .--> g\n",
      "104 .--> h\n",
      "105 .--> i\n",
      "106 .--> j\n",
      "107 .--> k\n",
      "108 .--> l\n",
      "109 .--> m\n",
      "110 .--> n\n",
      "111 .--> o\n",
      "112 .--> p\n",
      "113 .--> q\n",
      "114 .--> r\n",
      "115 .--> s\n",
      "116 .--> t\n",
      "117 .--> u\n",
      "118 .--> v\n",
      "119 .--> w\n",
      "120 .--> x\n",
      "121 .--> y\n",
      "122 .--> z\n",
      "123 .--> {\n",
      "124 .--> |\n",
      "125 .--> }\n",
      "126 .--> ~\n",
      "127 .--> \n",
      "128 .--> \n"
     ]
    }
   ],
   "source": [
    "for i in range(0,129):\n",
    "    print(i,\".-->\",chr(i))"
   ]
  },
  {
   "cell_type": "code",
   "execution_count": 125,
   "metadata": {},
   "outputs": [
    {
     "name": "stdout",
     "output_type": "stream",
     "text": [
      "vijayKUMAR10022@@#$%\n",
      "20 10 5 5\n"
     ]
    }
   ],
   "source": [
    "# input:data=\"vijayKUMAR10022@@#$%\"\n",
    "# output:total charaters=20\n",
    "#        alphabets=10\n",
    "#        numariccharachets=5\n",
    "#        special charaters=5\n",
    "data=input()\n",
    "t_char=0\n",
    "a_char=0\n",
    "n_char=0\n",
    "s_char=0\n",
    "# for ch in data:\n",
    "#     t_char+=1\n",
    "#     if(ch.isalpha()):\n",
    "#         a_char+=1\n",
    "#     elif(ch.isnumeric()):\n",
    "#         n_char+=1\n",
    "#     else:\n",
    "#         s_char+=1\n",
    "# print(t_char,a_char,n_char,s_char)\n",
    "for i in range(len(data)):\n",
    "    t_char+=1\n",
    "    if((ord(data[i])>=65 and ord(data[i])<=90) or (ord(data[i])>=97 and ord(data[i])<=122)):\n",
    "        a_char+=1\n",
    "    elif(ord(data[i])>=48 and ord(data[i])<=57):\n",
    "        n_char+=1\n",
    "    else:\n",
    "        s_char+=1\n",
    "print(t_char,a_char,n_char,s_char)"
   ]
  },
  {
   "cell_type": "code",
   "execution_count": null,
   "metadata": {},
   "outputs": [],
   "source": []
  }
 ],
 "metadata": {
  "kernelspec": {
   "display_name": "Python 3",
   "language": "python",
   "name": "python3"
  },
  "language_info": {
   "codemirror_mode": {
    "name": "ipython",
    "version": 3
   },
   "file_extension": ".py",
   "mimetype": "text/x-python",
   "name": "python",
   "nbconvert_exporter": "python",
   "pygments_lexer": "ipython3",
   "version": "3.7.3"
  }
 },
 "nbformat": 4,
 "nbformat_minor": 2
}
