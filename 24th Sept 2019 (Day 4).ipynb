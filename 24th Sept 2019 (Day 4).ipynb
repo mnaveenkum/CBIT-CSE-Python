{
 "cells": [
  {
   "cell_type": "markdown",
   "metadata": {},
   "source": [
    "# Dictionaries\n",
    "* It is a collection of hetrogenoues data set like numaric,alpla,char,str,spechar..etc\n",
    "* Data in the form of key and value pair\n",
    "* it contains unorder data\n",
    "* Every is unique data\n",
    "* It is mutable \n",
    "* short form is dict\n",
    "* It is also in the reprasentation of like {} but separated by colon(:) key and value \n"
   ]
  },
  {
   "cell_type": "code",
   "execution_count": 2,
   "metadata": {},
   "outputs": [
    {
     "data": {
      "text/plain": [
       "{'key1': 12122, 'key2': 7521, 'key3': 753713}"
      ]
     },
     "execution_count": 2,
     "metadata": {},
     "output_type": "execute_result"
    }
   ],
   "source": [
    "d={\"key1\":12122,\"key2\":7521,\"key3\":753713}\n",
    "d"
   ]
  },
  {
   "cell_type": "code",
   "execution_count": 3,
   "metadata": {},
   "outputs": [
    {
     "name": "stdout",
     "output_type": "stream",
     "text": [
      "['__class__', '__contains__', '__delattr__', '__delitem__', '__dir__', '__doc__', '__eq__', '__format__', '__ge__', '__getattribute__', '__getitem__', '__gt__', '__hash__', '__init__', '__init_subclass__', '__iter__', '__le__', '__len__', '__lt__', '__ne__', '__new__', '__reduce__', '__reduce_ex__', '__repr__', '__setattr__', '__setitem__', '__sizeof__', '__str__', '__subclasshook__', 'clear', 'copy', 'fromkeys', 'get', 'items', 'keys', 'pop', 'popitem', 'setdefault', 'update', 'values']\n"
     ]
    }
   ],
   "source": [
    "print(dir(dict))"
   ]
  },
  {
   "cell_type": "code",
   "execution_count": 5,
   "metadata": {},
   "outputs": [
    {
     "data": {
      "text/plain": [
       "{}"
      ]
     },
     "execution_count": 5,
     "metadata": {},
     "output_type": "execute_result"
    }
   ],
   "source": [
    "d.clear()\n",
    "d"
   ]
  },
  {
   "cell_type": "code",
   "execution_count": 6,
   "metadata": {},
   "outputs": [
    {
     "data": {
      "text/plain": [
       "{'Cbit': 2008, 'Apssdc': 2014, 'Python': 1991}"
      ]
     },
     "execution_count": 6,
     "metadata": {},
     "output_type": "execute_result"
    }
   ],
   "source": [
    "nd={\"Cbit\":2008,\"Apssdc\":2014,\"Python\":1991}\n",
    "nd"
   ]
  },
  {
   "cell_type": "code",
   "execution_count": 7,
   "metadata": {},
   "outputs": [
    {
     "data": {
      "text/plain": [
       "dict_keys(['Cbit', 'Apssdc', 'Python'])"
      ]
     },
     "execution_count": 7,
     "metadata": {},
     "output_type": "execute_result"
    }
   ],
   "source": [
    "nd.keys()#for all keys form dict.."
   ]
  },
  {
   "cell_type": "code",
   "execution_count": 8,
   "metadata": {},
   "outputs": [
    {
     "data": {
      "text/plain": [
       "dict_values([2008, 2014, 1991])"
      ]
     },
     "execution_count": 8,
     "metadata": {},
     "output_type": "execute_result"
    }
   ],
   "source": [
    "nd.values()#for all values form dict.."
   ]
  },
  {
   "cell_type": "code",
   "execution_count": 9,
   "metadata": {},
   "outputs": [
    {
     "data": {
      "text/plain": [
       "{'Kadapa': 'Cbit',\n",
       " 'Vizag': 'Gitam',\n",
       " 'Vijayawada': 'Velagapudi Ramakrishna SEC'}"
      ]
     },
     "execution_count": 9,
     "metadata": {},
     "output_type": "execute_result"
    }
   ],
   "source": [
    "nd1={\"Kadapa\":\"Cbit\",\"Vizag\":\"Gitam\",\"Vijayawada\":\"Velagapudi Ramakrishna SEC\"}\n",
    "nd1"
   ]
  },
  {
   "cell_type": "code",
   "execution_count": 10,
   "metadata": {},
   "outputs": [],
   "source": [
    "nd.update(nd1)"
   ]
  },
  {
   "cell_type": "code",
   "execution_count": 11,
   "metadata": {},
   "outputs": [
    {
     "data": {
      "text/plain": [
       "{'Cbit': 2008,\n",
       " 'Apssdc': 2014,\n",
       " 'Python': 1991,\n",
       " 'Kadapa': 'Cbit',\n",
       " 'Vizag': 'Gitam',\n",
       " 'Vijayawada': 'Velagapudi Ramakrishna SEC'}"
      ]
     },
     "execution_count": 11,
     "metadata": {},
     "output_type": "execute_result"
    }
   ],
   "source": [
    "nd"
   ]
  },
  {
   "cell_type": "code",
   "execution_count": 12,
   "metadata": {},
   "outputs": [
    {
     "data": {
      "text/plain": [
       "('Vijayawada', 'Velagapudi Ramakrishna SEC')"
      ]
     },
     "execution_count": 12,
     "metadata": {},
     "output_type": "execute_result"
    }
   ],
   "source": [
    "nd.popitem()"
   ]
  },
  {
   "cell_type": "code",
   "execution_count": 13,
   "metadata": {},
   "outputs": [
    {
     "data": {
      "text/plain": [
       "'Gitam'"
      ]
     },
     "execution_count": 13,
     "metadata": {},
     "output_type": "execute_result"
    }
   ],
   "source": [
    "nd.pop(\"Vizag\")"
   ]
  },
  {
   "cell_type": "code",
   "execution_count": 14,
   "metadata": {},
   "outputs": [
    {
     "data": {
      "text/plain": [
       "{'Cbit': 2008, 'Apssdc': 2014, 'Python': 1991, 'Kadapa': 'Cbit'}"
      ]
     },
     "execution_count": 14,
     "metadata": {},
     "output_type": "execute_result"
    }
   ],
   "source": [
    "nd"
   ]
  },
  {
   "cell_type": "code",
   "execution_count": 17,
   "metadata": {},
   "outputs": [],
   "source": [
    "nd[\"Python\"]=1989#update paticular value "
   ]
  },
  {
   "cell_type": "code",
   "execution_count": 18,
   "metadata": {},
   "outputs": [
    {
     "data": {
      "text/plain": [
       "{'Cbit': 2008, 'Apssdc': 2014, 'Python': 1989, 'Kadapa': 'Cbit'}"
      ]
     },
     "execution_count": 18,
     "metadata": {},
     "output_type": "execute_result"
    }
   ],
   "source": [
    "nd"
   ]
  },
  {
   "cell_type": "code",
   "execution_count": null,
   "metadata": {},
   "outputs": [],
   "source": [
    "#Task \n",
    "    #Funtion to create one contact app using dictionary\n",
    "    \n"
   ]
  },
  {
   "cell_type": "code",
   "execution_count": 19,
   "metadata": {},
   "outputs": [],
   "source": [
    "contacts={}"
   ]
  },
  {
   "cell_type": "code",
   "execution_count": 56,
   "metadata": {},
   "outputs": [
    {
     "name": "stdout",
     "output_type": "stream",
     "text": [
      "Enter person name :ts\n",
      "Enter person number :53\n",
      "Contact added successfully..\n"
     ]
    }
   ],
   "source": [
    "#Add contact to dict\n",
    "def addContact(name,number):\n",
    "    if name not in contacts:\n",
    "        contacts[name]=number\n",
    "        print(\"Contact added successfully..\")\n",
    "    else:\n",
    "        print(\"Contact already exist : \",name)\n",
    "name=input(\"Enter person name :\")\n",
    "number=int(input(\"Enter person number :\"))\n",
    "addContact(name,number)\n"
   ]
  },
  {
   "cell_type": "code",
   "execution_count": 55,
   "metadata": {},
   "outputs": [
    {
     "data": {
      "text/plain": [
       "{'muni': 565, 'vijay': 12, 'cr': 6735}"
      ]
     },
     "execution_count": 55,
     "metadata": {},
     "output_type": "execute_result"
    }
   ],
   "source": [
    "contacts"
   ]
  },
  {
   "cell_type": "code",
   "execution_count": 31,
   "metadata": {},
   "outputs": [
    {
     "name": "stdout",
     "output_type": "stream",
     "text": [
      "Enter the contact for update...s\n"
     ]
    },
    {
     "ename": "ValueError",
     "evalue": "invalid literal for int() with base 10: 's'",
     "output_type": "error",
     "traceback": [
      "\u001b[1;31m---------------------------------------------------------------------------\u001b[0m",
      "\u001b[1;31mValueError\u001b[0m                                Traceback (most recent call last)",
      "\u001b[1;32m<ipython-input-31-37f40fcef43f>\u001b[0m in \u001b[0;36m<module>\u001b[1;34m\u001b[0m\n\u001b[0;32m      7\u001b[0m     \u001b[1;32melse\u001b[0m\u001b[1;33m:\u001b[0m\u001b[1;33m\u001b[0m\u001b[1;33m\u001b[0m\u001b[0m\n\u001b[0;32m      8\u001b[0m         \u001b[0mprint\u001b[0m\u001b[1;33m(\u001b[0m\u001b[1;34m\"Not Exists for update :\"\u001b[0m\u001b[1;33m,\u001b[0m\u001b[0mname\u001b[0m\u001b[1;33m)\u001b[0m\u001b[1;33m\u001b[0m\u001b[1;33m\u001b[0m\u001b[0m\n\u001b[1;32m----> 9\u001b[1;33m \u001b[0mupdateContact\u001b[0m\u001b[1;33m(\u001b[0m\u001b[1;34m\"vijay\"\u001b[0m\u001b[1;33m)\u001b[0m\u001b[1;33m\u001b[0m\u001b[1;33m\u001b[0m\u001b[0m\n\u001b[0m",
      "\u001b[1;32m<ipython-input-31-37f40fcef43f>\u001b[0m in \u001b[0;36mupdateContact\u001b[1;34m(name)\u001b[0m\n\u001b[0;32m      2\u001b[0m \u001b[1;32mdef\u001b[0m \u001b[0mupdateContact\u001b[0m\u001b[1;33m(\u001b[0m\u001b[0mname\u001b[0m\u001b[1;33m)\u001b[0m\u001b[1;33m:\u001b[0m\u001b[1;33m\u001b[0m\u001b[1;33m\u001b[0m\u001b[0m\n\u001b[0;32m      3\u001b[0m     \u001b[1;32mif\u001b[0m \u001b[0mname\u001b[0m \u001b[1;32min\u001b[0m \u001b[0mcontacts\u001b[0m\u001b[1;33m:\u001b[0m\u001b[1;33m\u001b[0m\u001b[1;33m\u001b[0m\u001b[0m\n\u001b[1;32m----> 4\u001b[1;33m         \u001b[0mnumber\u001b[0m\u001b[1;33m=\u001b[0m\u001b[0mint\u001b[0m\u001b[1;33m(\u001b[0m\u001b[0minput\u001b[0m\u001b[1;33m(\u001b[0m\u001b[1;34m\"Enter the contact for update...\"\u001b[0m\u001b[1;33m)\u001b[0m\u001b[1;33m)\u001b[0m\u001b[1;33m\u001b[0m\u001b[1;33m\u001b[0m\u001b[0m\n\u001b[0m\u001b[0;32m      5\u001b[0m         \u001b[0mcontacts\u001b[0m\u001b[1;33m[\u001b[0m\u001b[0mname\u001b[0m\u001b[1;33m]\u001b[0m\u001b[1;33m=\u001b[0m\u001b[0mnumber\u001b[0m\u001b[1;33m\u001b[0m\u001b[1;33m\u001b[0m\u001b[0m\n\u001b[0;32m      6\u001b[0m         \u001b[0mprint\u001b[0m\u001b[1;33m(\u001b[0m\u001b[1;34m\"Successfully updated\"\u001b[0m\u001b[1;33m,\u001b[0m\u001b[0mname\u001b[0m \u001b[1;33m,\u001b[0m\u001b[1;34m\"in\"\u001b[0m\u001b[1;33m,\u001b[0m\u001b[0mnumber\u001b[0m\u001b[1;33m)\u001b[0m\u001b[1;33m\u001b[0m\u001b[1;33m\u001b[0m\u001b[0m\n",
      "\u001b[1;31mValueError\u001b[0m: invalid literal for int() with base 10: 's'"
     ]
    }
   ],
   "source": [
    "#update the contact\n",
    "def updateContact(name):\n",
    "    if name in contacts:\n",
    "        number=int(input(\"Enter the contact for update...\"))\n",
    "        contacts[name]=number\n",
    "        print(\"Successfully updated\",name ,\"in\",number)\n",
    "    else:\n",
    "        print(\"Not Exists for update :\",name)\n",
    "updateContact(\"vijay\")   \n"
   ]
  },
  {
   "cell_type": "code",
   "execution_count": 32,
   "metadata": {},
   "outputs": [
    {
     "name": "stdout",
     "output_type": "stream",
     "text": [
      "Successfully deleted vijay in 676444\n"
     ]
    }
   ],
   "source": [
    "#update the contact\n",
    "def deletecontact(name):\n",
    "    if name in contacts:\n",
    "        contacts[name]=number\n",
    "        contacts.pop(name)\n",
    "        print(\"Successfully deleted\",name ,\"in\",number)\n",
    "    else:\n",
    "        print(\"contact not Exists for delete :\",name)\n",
    "deletecontact(\"vijay\")   \n"
   ]
  },
  {
   "cell_type": "code",
   "execution_count": 33,
   "metadata": {},
   "outputs": [
    {
     "data": {
      "text/plain": [
       "{'muni': 12345}"
      ]
     },
     "execution_count": 33,
     "metadata": {},
     "output_type": "execute_result"
    }
   ],
   "source": [
    "contacts"
   ]
  },
  {
   "cell_type": "code",
   "execution_count": 49,
   "metadata": {},
   "outputs": [
    {
     "name": "stdout",
     "output_type": "stream",
     "text": [
      "contacts is empty\n"
     ]
    }
   ],
   "source": [
    "#Display contacts\n",
    "#       1.ap-->123\n",
    "#       2.ts-->6565\n",
    "#       3.tn-->7676\n",
    "#       4.muni-->12345\n",
    "\n",
    "def dcontacts(d):\n",
    "    c=1\n",
    "    if len(contacts)<0:\n",
    "        for name in contacts:\n",
    "            if name in contacts:\n",
    "                print(c,\".\",name,\"---->\",number)\n",
    "                c=c+1\n",
    "    else:\n",
    "        print(\"contacts is empty\")\n",
    "\n",
    "dcontacts(contacts)"
   ]
  },
  {
   "cell_type": "code",
   "execution_count": 43,
   "metadata": {},
   "outputs": [],
   "source": [
    "contacts.clear()\n"
   ]
  },
  {
   "cell_type": "code",
   "execution_count": 58,
   "metadata": {},
   "outputs": [
    {
     "data": {
      "text/plain": [
       "{'muni': 565, 'vijay': 12, 'cr': 6735, 'ts': 53}"
      ]
     },
     "execution_count": 58,
     "metadata": {},
     "output_type": "execute_result"
    }
   ],
   "source": [
    "contacts"
   ]
  },
  {
   "cell_type": "code",
   "execution_count": 62,
   "metadata": {},
   "outputs": [
    {
     "name": "stdout",
     "output_type": "stream",
     "text": [
      "2 . muni ----> 565\n",
      "3 . vijay ----> 12\n",
      "4 . cr ----> 6735\n",
      "5 . ts ----> 53\n"
     ]
    }
   ],
   "source": [
    "def dcontacts(d):\n",
    "    c=1\n",
    "    if len(contacts)>0:\n",
    "        for n,nm in contacts.items():\n",
    "            c=c+1\n",
    "            print(c,\".\",n,\"---->\",nm)\n",
    "            \n",
    "    else:\n",
    "        print(\"contacts is empty\")\n",
    "#             if name in contacts:\n",
    "dcontacts(contacts)"
   ]
  },
  {
   "cell_type": "code",
   "execution_count": 81,
   "metadata": {},
   "outputs": [
    {
     "name": "stdout",
     "output_type": "stream",
     "text": [
      "['172p1a0551', '172p1a0552', '172p1a0553', '172p1a0554', '172p1a0555', '172p1a0556', '172p1a0558', '172p1a0559', '172p1a0560', '172p1a0561', '172p1a0562', '172p1a0563', '172p1a0564', '172p1a0565', '172p1a0566', '172p1a0567', '172p1a0568', '172p1a0569', '172p1a0570', '172p1a0571', '172p1a0572', '172p1a0573', '172p1a0574', '172p1a0576', '172p1a0577', '172p1a0578', '172p1a0579', '172p1a0581', '172p1a0582', '172p1a0583', '172p1a0585', '172p1a0586', '172p1a0587', '172p1a0588', '172p1a0589', '172p1a0590', '172p1a0591', '172p1a0592', '172p1a0593', '172p1a0594']\n"
     ]
    }
   ],
   "source": [
    "# Generation of RollNumbers\n",
    "Roll_number=[]\n",
    "def Generate_RollNumber(lb,ub):\n",
    "    for i in range(lb,ub+1):\n",
    "        if(i==57 or i==80 or i==75 or i==84):\n",
    "            continue\n",
    "        else:\n",
    "            Roll_number.append(\"172p1a05\"+str(i))\n",
    "Generate_RollNumber(51,94)\n",
    "print(Roll_number)\n",
    "        "
   ]
  },
  {
   "cell_type": "code",
   "execution_count": 86,
   "metadata": {},
   "outputs": [
    {
     "name": "stdout",
     "output_type": "stream",
     "text": [
      "[87, 12, 97, 96, 10, 90, 25, 6, 55, 27, 75, 61, 97, 69, 45, 51, 27, 62, 74, 26, 58, 2, 39, 51, 21, 86, 55, 27, 73, 10, 42, 46, 32, 79, 27, 56, 16, 22, 98, 37, 63, 67, 21, 44]\n"
     ]
    }
   ],
   "source": [
    "# Generate Marks\n",
    "marks_list=[]\n",
    "import random\n",
    "def Generate_marks(lb,ub):\n",
    "    for i in range(lb,ub+1):\n",
    "        v=random.randint(1,100)\n",
    "        marks_list.append(v)\n",
    "Generate_marks(51,94)\n",
    "print(marks_list)"
   ]
  },
  {
   "cell_type": "code",
   "execution_count": 83,
   "metadata": {},
   "outputs": [
    {
     "name": "stdout",
     "output_type": "stream",
     "text": [
      "['172p1a0551', '172p1a0552', '172p1a0553', '172p1a0554', '172p1a0555', '172p1a0556', '172p1a0558', '172p1a0559', '172p1a0560', '172p1a0561', '172p1a0562', '172p1a0563', '172p1a0564', '172p1a0565', '172p1a0566', '172p1a0567', '172p1a0568', '172p1a0569', '172p1a0570', '172p1a0571', '172p1a0572', '172p1a0573', '172p1a0574', '172p1a0576', '172p1a0577', '172p1a0578', '172p1a0579', '172p1a0581', '172p1a0582', '172p1a0583', '172p1a0585', '172p1a0586', '172p1a0587', '172p1a0588', '172p1a0589', '172p1a0590', '172p1a0591', '172p1a0592', '172p1a0593', '172p1a0594']\n",
      "[67, 75, 62, 87, 96, 99, 90, 92, 68, 62, 54, 76, 88, 96, 87, 80, 94, 50, 71, 81, 68, 53, 98, 88, 72, 95, 92, 97, 77, 77, 56, 74, 80, 84, 67, 51, 55, 98, 64, 97, 85, 70, 78, 94]\n"
     ]
    }
   ],
   "source": [
    "print(Roll_number)\n",
    "print(marks_list)"
   ]
  },
  {
   "cell_type": "code",
   "execution_count": 88,
   "metadata": {},
   "outputs": [
    {
     "name": "stdout",
     "output_type": "stream",
     "text": [
      "{'172p1a0551': 87, '172p1a0552': 12, '172p1a0553': 97, '172p1a0554': 96, '172p1a0555': 10, '172p1a0556': 90, '172p1a0558': 25, '172p1a0559': 6, '172p1a0560': 55, '172p1a0561': 27, '172p1a0562': 75, '172p1a0563': 61, '172p1a0564': 97, '172p1a0565': 69, '172p1a0566': 45, '172p1a0567': 51, '172p1a0568': 27, '172p1a0569': 62, '172p1a0570': 74, '172p1a0571': 26, '172p1a0572': 58, '172p1a0573': 2, '172p1a0574': 39, '172p1a0576': 51, '172p1a0577': 21, '172p1a0578': 86, '172p1a0579': 55, '172p1a0581': 27, '172p1a0582': 73, '172p1a0583': 10, '172p1a0585': 42, '172p1a0586': 46, '172p1a0587': 32, '172p1a0588': 79, '172p1a0589': 27, '172p1a0590': 56, '172p1a0591': 16, '172p1a0592': 22, '172p1a0593': 98, '172p1a0594': 37}\n"
     ]
    }
   ],
   "source": [
    "# Storing Roll Numbers and Marks in to Dict\n",
    "student_data={}\n",
    "for i in range(len(Roll_number)):\n",
    "    student_data[Roll_number[i]]=marks_list[i]\n",
    "print(student_data)\n"
   ]
  },
  {
   "cell_type": "code",
   "execution_count": 95,
   "metadata": {},
   "outputs": [
    {
     "name": "stdout",
     "output_type": "stream",
     "text": [
      "Total Students= 40\n",
      "Failed Count= 15\n",
      "Passed Count= 25\n"
     ]
    }
   ],
   "source": [
    "# To find Failed Count As well as Passed Count\n",
    "student_data.keys()\n",
    "student_data.values()\n",
    "student_data.items()\n",
    "fail_count=0\n",
    "pass_count=0\n",
    "for value in student_data.values():\n",
    "    if(value>=35):\n",
    "        pass_count+=1\n",
    "    else:\n",
    "        fail_count+=1\n",
    "print(\"Total Students=\",fail_count+pass_count)\n",
    "print(\"Failed Count=\",fail_count)\n",
    "print(\"Passed Count=\",pass_count)"
   ]
  },
  {
   "cell_type": "code",
   "execution_count": 97,
   "metadata": {},
   "outputs": [
    {
     "name": "stdout",
     "output_type": "stream",
     "text": [
      "{87: '172p1a0551', 12: '172p1a0552', 97: '172p1a0564', 96: '172p1a0554', 10: '172p1a0583', 90: '172p1a0556', 25: '172p1a0558', 6: '172p1a0559', 55: '172p1a0579', 27: '172p1a0589', 75: '172p1a0562', 61: '172p1a0563', 69: '172p1a0565', 45: '172p1a0566', 51: '172p1a0576', 62: '172p1a0569', 74: '172p1a0570', 26: '172p1a0571', 58: '172p1a0572', 2: '172p1a0573', 39: '172p1a0574', 21: '172p1a0577', 86: '172p1a0578', 73: '172p1a0582', 42: '172p1a0585', 46: '172p1a0586', 32: '172p1a0587', 79: '172p1a0588', 56: '172p1a0590', 16: '172p1a0591', 22: '172p1a0592', 98: '172p1a0593', 37: '172p1a0594'}\n"
     ]
    }
   ],
   "source": [
    "# Swapping Roll numbers to marks because of to find fail and pass data\n",
    "ana_studetn_data={}\n",
    "for i in range(len(Roll_number)):\n",
    "    ana_studetn_data[marks_list[i]]=Roll_number[i]\n",
    "print(ana_studetn_data)\n"
   ]
  },
  {
   "cell_type": "code",
   "execution_count": 102,
   "metadata": {},
   "outputs": [
    {
     "name": "stdout",
     "output_type": "stream",
     "text": [
      "Passed Data:\n",
      "172p1a0551 = 87\n",
      "172p1a0564 = 97\n",
      "172p1a0554 = 96\n",
      "172p1a0556 = 90\n",
      "172p1a0579 = 55\n",
      "172p1a0562 = 75\n",
      "172p1a0563 = 61\n",
      "172p1a0565 = 69\n",
      "172p1a0566 = 45\n",
      "172p1a0576 = 51\n",
      "172p1a0569 = 62\n",
      "172p1a0570 = 74\n",
      "172p1a0572 = 58\n",
      "172p1a0574 = 39\n",
      "172p1a0578 = 86\n",
      "172p1a0582 = 73\n",
      "172p1a0585 = 42\n",
      "172p1a0586 = 46\n",
      "172p1a0588 = 79\n",
      "172p1a0590 = 56\n",
      "172p1a0593 = 98\n",
      "172p1a0594 = 37\n",
      "Failed Data:\n",
      "172p1a0552 = 12\n",
      "172p1a0583 = 10\n",
      "172p1a0558 = 25\n",
      "172p1a0559 = 6\n",
      "172p1a0589 = 27\n",
      "172p1a0571 = 26\n",
      "172p1a0573 = 2\n",
      "172p1a0577 = 21\n",
      "172p1a0587 = 32\n",
      "172p1a0591 = 16\n",
      "172p1a0592 = 22\n"
     ]
    }
   ],
   "source": [
    "# to separate failed data and passed data in to two dictinaries\n",
    "fail_list={}\n",
    "pass_list={}\n",
    "print(\"Passed Data:\")\n",
    "for mark,roll in ana_studetn_data.items():\n",
    "    if(mark>=35):\n",
    "        print(ana_studetn_data[mark],\"=\",mark)\n",
    "        pass_list[ana_studetn_data[mark]]=mark\n",
    "print(\"Failed Data:\")\n",
    "for mark,roll in ana_studetn_data.items():\n",
    "    if(mark<35):\n",
    "        print(ana_studetn_data[mark],\"=\",mark)\n",
    "        fail_list[ana_studetn_data[mark]]=mark\n",
    "        \n"
   ]
  },
  {
   "cell_type": "code",
   "execution_count": 104,
   "metadata": {},
   "outputs": [
    {
     "name": "stdout",
     "output_type": "stream",
     "text": [
      "Passed Data is\n",
      "172p1a0551 --> 87\n",
      "172p1a0564 --> 97\n",
      "172p1a0554 --> 96\n",
      "172p1a0556 --> 90\n",
      "172p1a0579 --> 55\n",
      "172p1a0562 --> 75\n",
      "172p1a0563 --> 61\n",
      "172p1a0565 --> 69\n",
      "172p1a0566 --> 45\n",
      "172p1a0576 --> 51\n",
      "172p1a0569 --> 62\n",
      "172p1a0570 --> 74\n",
      "172p1a0572 --> 58\n",
      "172p1a0574 --> 39\n",
      "172p1a0578 --> 86\n",
      "172p1a0582 --> 73\n",
      "172p1a0585 --> 42\n",
      "172p1a0586 --> 46\n",
      "172p1a0588 --> 79\n",
      "172p1a0590 --> 56\n",
      "172p1a0593 --> 98\n",
      "172p1a0594 --> 37\n"
     ]
    }
   ],
   "source": [
    "print(\"Passed Data is\")\n",
    "for roll,mark in pass_list.items():\n",
    "    print(roll,\"-->\",mark)"
   ]
  },
  {
   "cell_type": "code",
   "execution_count": 105,
   "metadata": {
    "scrolled": true
   },
   "outputs": [
    {
     "name": "stdout",
     "output_type": "stream",
     "text": [
      "Failed Data is \n",
      "172p1a0552 --> 12\n",
      "172p1a0583 --> 10\n",
      "172p1a0558 --> 25\n",
      "172p1a0559 --> 6\n",
      "172p1a0589 --> 27\n",
      "172p1a0571 --> 26\n",
      "172p1a0573 --> 2\n",
      "172p1a0577 --> 21\n",
      "172p1a0587 --> 32\n",
      "172p1a0591 --> 16\n",
      "172p1a0592 --> 22\n"
     ]
    }
   ],
   "source": [
    "print(\"Failed Data is \")\n",
    "for roll,mark in fail_list.items():\n",
    "    print(roll,\"-->\",mark)"
   ]
  },
  {
   "cell_type": "code",
   "execution_count": null,
   "metadata": {},
   "outputs": [],
   "source": [
    "#Task -\n",
    "#Create Login and signup page using dict..\n",
    "    #explanation:\n",
    "        #LoginCredentials{\"user1\":[\"password\",\"mobile\",\"email\"]\n",
    "        #                   \"user2\":\"password2\"\n",
    "        #                    \"user3\":\"password3\"}\n",
    "    #store the   LoginCredentials to dict\n",
    "    # if check the login working or not \n",
    "                \n"
   ]
  },
  {
   "cell_type": "markdown",
   "metadata": {},
   "source": [
    "# Regular Expressions\n",
    "    * It ia programming lan..\n",
    "    * It matchs the patterns by using symbols \n",
    "    * helpful for reduce the no.of lines in the coding\n",
    "    * it is 100% accurate \n",
    "    \n",
    "    "
   ]
  },
  {
   "cell_type": "markdown",
   "metadata": {},
   "source": [
    "### Regular Expression \n",
    "* A Regular Expression (RegEx) is a sequence of characters that match a pattern. It is a symbolic representation.  To use regular expressions, we have to import regular expressions(import re) while writing a program.\n",
    "    * Character\n",
    "        - Use case\n",
    "            _ []-->Represent a character\n",
    "            - ^ -->Matches the beginning\n",
    "            - $ -->Matches the ending\n",
    "            - * -->Number of occurrences(zero also)\n",
    "            - + -->Number of occurrences(from 1)\n",
    "            - . -->To match a character\n",
    "            - ? -->For zero or one occurrences\n",
    "            - | -->OR\n",
    "            - {} -->Range set\n",
    "            - () -->For enclosing of regular expression\n"
   ]
  },
  {
   "cell_type": "code",
   "execution_count": 106,
   "metadata": {},
   "outputs": [
    {
     "name": "stdout",
     "output_type": "stream",
     "text": [
      "['A', 'ASCII', 'DEBUG', 'DOTALL', 'I', 'IGNORECASE', 'L', 'LOCALE', 'M', 'MULTILINE', 'Match', 'Pattern', 'RegexFlag', 'S', 'Scanner', 'T', 'TEMPLATE', 'U', 'UNICODE', 'VERBOSE', 'X', '_MAXCACHE', '__all__', '__builtins__', '__cached__', '__doc__', '__file__', '__loader__', '__name__', '__package__', '__spec__', '__version__', '_cache', '_compile', '_compile_repl', '_expand', '_locale', '_pickle', '_special_chars_map', '_subx', 'compile', 'copyreg', 'enum', 'error', 'escape', 'findall', 'finditer', 'fullmatch', 'functools', 'match', 'purge', 'search', 'split', 'sre_compile', 'sre_parse', 'sub', 'subn', 'template']\n"
     ]
    }
   ],
   "source": [
    "# import re\n",
    "import re\n",
    "\n",
    "print(dir(re))\n"
   ]
  },
  {
   "cell_type": "code",
   "execution_count": 108,
   "metadata": {},
   "outputs": [],
   "source": [
    "#match\n",
    "\n",
    "re.match(\"c\",\"apssdc\")#It is knothng return\n"
   ]
  },
  {
   "cell_type": "code",
   "execution_count": 109,
   "metadata": {},
   "outputs": [
    {
     "data": {
      "text/plain": [
       "<re.Match object; span=(0, 1), match='a'>"
      ]
     },
     "execution_count": 109,
     "metadata": {},
     "output_type": "execute_result"
    }
   ],
   "source": [
    "re.match(\"a\",\"apssdc\")#It only first letter given str"
   ]
  },
  {
   "cell_type": "code",
   "execution_count": 110,
   "metadata": {},
   "outputs": [],
   "source": [
    "re.match(\"p\",\"apssdc\")"
   ]
  },
  {
   "cell_type": "code",
   "execution_count": 111,
   "metadata": {},
   "outputs": [
    {
     "data": {
      "text/plain": [
       "<re.Match object; span=(5, 6), match='c'>"
      ]
     },
     "execution_count": 111,
     "metadata": {},
     "output_type": "execute_result"
    }
   ],
   "source": [
    "#search \n",
    "re.search(\"c\",\"apssdc\")#return only one chr any position"
   ]
  },
  {
   "cell_type": "code",
   "execution_count": 112,
   "metadata": {},
   "outputs": [
    {
     "data": {
      "text/plain": [
       "<re.Match object; span=(2, 3), match='s'>"
      ]
     },
     "execution_count": 112,
     "metadata": {},
     "output_type": "execute_result"
    }
   ],
   "source": [
    "re.search(\"s\",\"apssdc\")"
   ]
  },
  {
   "cell_type": "code",
   "execution_count": 113,
   "metadata": {},
   "outputs": [
    {
     "data": {
      "text/plain": [
       "['s', 's']"
      ]
     },
     "execution_count": 113,
     "metadata": {},
     "output_type": "execute_result"
    }
   ],
   "source": [
    "#findall\n",
    "re.findall(\"s\",\"apssdc\")"
   ]
  },
  {
   "cell_type": "code",
   "execution_count": null,
   "metadata": {},
   "outputs": [],
   "source": [
    "#All char \n",
    "    #[a-z]\n",
    "#All num\n",
    "    #[0-9]\n",
    "#Multilpy of 5 \n",
    "    #[0-9]*[5]\n",
    "#even numbers\n",
    "    #^[0-9][2346]$\n",
    "#Odd number two digit\n",
    "    #^[0-9][1357]$\n",
    "#Four digit num stars with 4 and ends with 8\n",
    "    #^[4][0-9]{2}[8]$\n",
    "#Word matching\n",
    "    #^(dhoni)$ or ^[d][h][o][n][i]$\n",
    "#Mobile number validation \n",
    "    #case-1:it is starting with 6 or 7 or 8 or 9 and ten digits\n",
    "        # ^[6789][0-9]{9}$\n",
    "    #case-2:it is starting with 6 or 7 or 8 or 9 and ten digits also starting with zero\n",
    "        #ex.09876543212\n",
    "        #^[0][6-9][0-9]{9}$\n",
    "    #case-2:it is starting with 6 or 7 or 8 or 9 and ten digits also starting with zero or +91\n",
    "    #Final mobile number Validation \n",
    "    #^[6789][0-9]{9}$|^[0][6-9][0-9]{9}$|^[+][9][1][6-9][0-9]{9}$\n",
    "#Email validation\n",
    "    #ex:example@domin.com\n",
    "        #1.username: len->8 to 18\n",
    "            #rulz:doen't statring number,spl symbols\n",
    "        #2.domine name:len->3 to 7\n",
    "        #3.extenstion:len ->2 to 4\n",
    "        #Final:^[a-zA-Z][a-z0-9._]{7,18}[@][a-z]{3,7}[.][a-z]{2,3}$\n",
    "       "
   ]
  },
  {
   "cell_type": "code",
   "execution_count": 116,
   "metadata": {},
   "outputs": [
    {
     "name": "stdout",
     "output_type": "stream",
     "text": [
      "Enter the Email id :pguruneelima123@gmail.com\n",
      "Valid  pguruneelima123@gmail.com\n"
     ]
    }
   ],
   "source": [
    "import re\n",
    "\n",
    "pattern=\"^[a-zA-Z][a-z0-9._]{7,18}[@][a-z]{3,7}[.][a-z]{2,3}$\"\n",
    "\n",
    "def isValidEmail(email_id):\n",
    "    if (re.match(pattern,email_id)):\n",
    "        print(\"Valid \",email_id)\n",
    "    else:\n",
    "        print(\"Invalid :\",email_id)\n",
    "email_id=input(\"Enter the Email id :\")\n",
    "isValidEmail(email_id)\n",
    "    \n",
    "    "
   ]
  },
  {
   "cell_type": "markdown",
   "metadata": {},
   "source": [
    "# Packages and modules\n",
    "* Set of  funtions called modules\n",
    "* Set of modules called packages \n",
    "* It just know as one python(.py)\n",
    "* we will import that packages by using import keyword\n",
    "\n"
   ]
  },
  {
   "cell_type": "code",
   "execution_count": 117,
   "metadata": {},
   "outputs": [
    {
     "name": "stdout",
     "output_type": "stream",
     "text": [
      "['__doc__', '__loader__', '__name__', '__package__', '__spec__', 'acos', 'acosh', 'asin', 'asinh', 'atan', 'atan2', 'atanh', 'ceil', 'copysign', 'cos', 'cosh', 'degrees', 'e', 'erf', 'erfc', 'exp', 'expm1', 'fabs', 'factorial', 'floor', 'fmod', 'frexp', 'fsum', 'gamma', 'gcd', 'hypot', 'inf', 'isclose', 'isfinite', 'isinf', 'isnan', 'ldexp', 'lgamma', 'log', 'log10', 'log1p', 'log2', 'modf', 'nan', 'pi', 'pow', 'radians', 'remainder', 'sin', 'sinh', 'sqrt', 'tan', 'tanh', 'tau', 'trunc']\n"
     ]
    }
   ],
   "source": [
    "#Two types \n",
    "#     1.predefined\n",
    "#     2.user defined\n",
    "import math \n",
    "\n",
    "print(dir(math))\n",
    "#ceil\n",
    "#floor\n",
    "a=5\n",
    "b=2\n",
    "a/b\n"
   ]
  },
  {
   "cell_type": "code",
   "execution_count": 124,
   "metadata": {},
   "outputs": [
    {
     "data": {
      "text/plain": [
       "3"
      ]
     },
     "execution_count": 124,
     "metadata": {},
     "output_type": "execute_result"
    }
   ],
   "source": [
    "a=10\n",
    "b=2\n",
    "math.floor(a/b)"
   ]
  },
  {
   "cell_type": "code",
   "execution_count": 125,
   "metadata": {},
   "outputs": [
    {
     "data": {
      "text/plain": [
       "3"
      ]
     },
     "execution_count": 125,
     "metadata": {},
     "output_type": "execute_result"
    }
   ],
   "source": [
    "a=5\n",
    "b=2\n",
    "math.ceil(a/b)"
   ]
  },
  {
   "cell_type": "code",
   "execution_count": 128,
   "metadata": {},
   "outputs": [
    {
     "data": {
      "text/plain": [
       "False"
      ]
     },
     "execution_count": 128,
     "metadata": {},
     "output_type": "execute_result"
    }
   ],
   "source": [
    "#User defiend packages\n",
    "def isPrime(n):\n",
    "    if n<2:\n",
    "        return False\n",
    "    for i in range(2,(n//2)+1):\n",
    "        if n%i==0:\n",
    "            return False\n",
    "    return True\n",
    "isPrime(10)"
   ]
  },
  {
   "cell_type": "code",
   "execution_count": 129,
   "metadata": {},
   "outputs": [
    {
     "data": {
      "text/plain": [
       "True"
      ]
     },
     "execution_count": 129,
     "metadata": {},
     "output_type": "execute_result"
    }
   ],
   "source": [
    "import mypackage as p\n",
    "\n",
    "p.isPrime(23)\n",
    "\n"
   ]
  },
  {
   "cell_type": "code",
   "execution_count": 1,
   "metadata": {},
   "outputs": [],
   "source": [
    "import Data.mypck as dm"
   ]
  },
  {
   "cell_type": "code",
   "execution_count": 2,
   "metadata": {},
   "outputs": [
    {
     "name": "stdout",
     "output_type": "stream",
     "text": [
      "55\n"
     ]
    }
   ],
   "source": [
    "dm.sum_naturalnumbers(10)"
   ]
  },
  {
   "cell_type": "code",
   "execution_count": null,
   "metadata": {},
   "outputs": [],
   "source": []
  }
 ],
 "metadata": {
  "kernelspec": {
   "display_name": "Python 3",
   "language": "python",
   "name": "python3"
  },
  "language_info": {
   "codemirror_mode": {
    "name": "ipython",
    "version": 3
   },
   "file_extension": ".py",
   "mimetype": "text/x-python",
   "name": "python",
   "nbconvert_exporter": "python",
   "pygments_lexer": "ipython3",
   "version": "3.7.3"
  }
 },
 "nbformat": 4,
 "nbformat_minor": 2
}
